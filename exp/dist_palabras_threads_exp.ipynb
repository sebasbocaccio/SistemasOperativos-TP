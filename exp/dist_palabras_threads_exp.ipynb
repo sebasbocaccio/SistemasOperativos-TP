{
 "cells": [
  {
   "cell_type": "code",
   "execution_count": null,
   "metadata": {},
   "outputs": [],
   "source": [
    "import numpy as np\n",
    "import pandas as pd\n",
    "import seaborn as sns\n",
    "import matplotlib.pyplot as plt"
   ]
  },
  {
   "cell_type": "code",
   "execution_count": null,
   "metadata": {},
   "outputs": [],
   "source": [
    "df = pd.read_csv(\"resultados/resultado.csv\");\n",
    "df = df[df['cantArchivos'] == df['threadsLectura']]\n",
    "df = df[df['EXPERIMENTO'] == 4]\n",
    "df.head()"
   ]
  },
  {
   "cell_type": "code",
   "execution_count": null,
   "metadata": {},
   "outputs": [],
   "source": [
    "df[\"l\"] = '[' + df['cantArchivos'].map(str) + ', ' + df['threadsLectura'].map(str) + ']'\n",
    "df.head()"
   ]
  },
  {
   "cell_type": "code",
   "execution_count": null,
   "metadata": {},
   "outputs": [],
   "source": [
    "sns.set_style(\"whitegrid\")\n",
    "\n",
    "fig, ax = plt.subplots(figsize=(12,8))\n",
    "ax.set_title('Tiempo en cargar los archivos cuando la cantidad de archivos es igual a la cantidad de threads')\n",
    "sns.barplot(ax=ax, data=df,x='l', y='TIEMPO_CARGAR', color='tab:orange')\n",
    "ax.set_ylabel('Tiempo en cargar los archivos (ms)')\n",
    "ax.set_xlabel('[cant_archivos, threads]')\n",
    "#fig = ax.get_figure()\n",
    "\n",
    "fig.savefig(\"img/bp_ca_eq_tl\")"
   ]
  },
  {
   "cell_type": "code",
   "execution_count": null,
   "metadata": {},
   "outputs": [],
   "source": [
    "fig, ax = plt.subplots(figsize=(12,8))\n",
    "sns.boxplot(df['TIEMPO_CARGAR'], ax=ax, color='tab:orange')\n",
    "ax.set_xlabel('Tiempo en cargar los archivos (ms)')\n",
    "ax.set_title('Distribución de los tiempos de carga cuando la cantidad de los archivos es igual a la cantidad de threads')\n",
    "fig.savefig(\"img/bx_ca_eq_tl\")"
   ]
  },
  {
   "cell_type": "code",
   "execution_count": null,
   "metadata": {},
   "outputs": [],
   "source": []
  }
 ],
 "metadata": {
  "kernelspec": {
   "display_name": "Python 3.8.2 64-bit ('metnum': venv)",
   "language": "python",
   "name": "python38264bitmetnumvenvc44a19ffde4845f8ad72094b1e6e18a8"
  },
  "language_info": {
   "codemirror_mode": {
    "name": "ipython",
    "version": 3
   },
   "file_extension": ".py",
   "mimetype": "text/x-python",
   "name": "python",
   "nbconvert_exporter": "python",
   "pygments_lexer": "ipython3",
   "version": "3.8.6"
  }
 },
 "nbformat": 4,
 "nbformat_minor": 4
}
