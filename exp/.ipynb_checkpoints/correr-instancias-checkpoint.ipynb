{
 "cells": [
  {
   "cell_type": "markdown",
   "metadata": {},
   "source": [
    "# Imports"
   ]
  },
  {
   "cell_type": "code",
   "execution_count": 37,
   "metadata": {},
   "outputs": [],
   "source": [
    "import math, subprocess\n",
    "import pandas as pd\n",
    "import numpy as np\n",
    "from IPython.display import display, clear_output\n",
    "import seaborn as sns\n",
    "import string, random"
   ]
  },
  {
   "cell_type": "markdown",
   "metadata": {},
   "source": [
    "# make"
   ]
  },
  {
   "cell_type": "code",
   "execution_count": 38,
   "metadata": {},
   "outputs": [
    {
     "name": "stdout",
     "output_type": "stream",
     "text": [
      "removed './build/ContarPalabras'\n",
      "g++ -std=c++11 -Wall -c src/HashMapConcurrente.cpp -o build/HashMapConcurrente.o -lpthread\n",
      "g++ -std=c++11 -Wall -c src/CargarArchivos.cpp -o build/CargarArchivos.o -lpthread\n",
      "g++ -std=c++11 -Wall -o build/ContarPalabras src/ContarPalabras.cpp build/HashMapConcurrente.o build/CargarArchivos.o -lpthread\n",
      "rm build/CargarArchivos.o build/HashMapConcurrente.o\n"
     ]
    }
   ],
   "source": [
    "!cd .. && make clean && make all\n",
    "!rm -r instancias && mkdir instancias"
   ]
  },
  {
   "cell_type": "markdown",
   "metadata": {},
   "source": [
    "## Definitions"
   ]
  },
  {
   "cell_type": "code",
   "execution_count": 73,
   "metadata": {},
   "outputs": [],
   "source": [
    "BIN = \"./../build/ContarPalabras\"\n",
    "TEST_FILE = \"../data/corpus\"\n",
    "runs = []"
   ]
  },
  {
   "cell_type": "code",
   "execution_count": 47,
   "metadata": {},
   "outputs": [],
   "source": [
    "def correr_experimento(t_leer, t_max, files):\n",
    "    # Leer archivo de la instancia.\n",
    "    # Crear proceso para ejecutar el codigo.\n",
    "\n",
    "    process = subprocess.Popen([BIN] + [t_leer, t_max] + files, stderr=subprocess.PIPE, stdout=subprocess.PIPE, stdin=subprocess.PIPE, universal_newlines = True)\n",
    "    \n",
    "    # Correr experimento.\n",
    "    exit_code = process.wait()\n",
    "\n",
    "    time_l, time_max, _ = tuple(process.stderr.read().split(\"\\n\"))\n",
    "    \n",
    "    process.stdin.close();\n",
    "    process.stdout.close();\n",
    "    process.stderr.close();\n",
    "    \n",
    "    return [float(time_l), float(time_max)]"
   ]
  },
  {
   "cell_type": "markdown",
   "metadata": {},
   "source": [
    "## txt generator: a agus le gusta que le digan"
   ]
  },
  {
   "cell_type": "code",
   "execution_count": 41,
   "metadata": {},
   "outputs": [],
   "source": [
    "def gen_words_s(filename, char, n):\n",
    "    file = open(f'instancias/{filename}.txt', 'a')\n",
    "    for _ in range(n):\n",
    "        word = ''.join(random.choice(string.ascii_lowercase) for _ in range(random.randint(3, 9)))\n",
    "        word = char + word\n",
    "        file.write(word + '\\n')\n",
    "    file.close()"
   ]
  },
  {
   "cell_type": "code",
   "execution_count": 42,
   "metadata": {},
   "outputs": [],
   "source": [
    "def txt(txtname, size):\n",
    "    file = open(f'instancias/{txtname}.txt', 'w+')\n",
    "    for _ in range(size):\n",
    "        word = ''.join(random.choice(string.ascii_lowercase) for _ in range(random.randint(3, 9)))\n",
    "        file.write(word + '\\n')\n",
    "    \n",
    "\n",
    "for x in range(20 + 1):\n",
    "    txt(x, 5000)"
   ]
  },
  {
   "cell_type": "code",
   "execution_count": 36,
   "metadata": {},
   "outputs": [
    {
     "name": "stdout",
     "output_type": "stream",
     "text": [
      "['./../build/ContarPalabras', '1', '1', '0.txt']\n"
     ]
    },
    {
     "ename": "ValueError",
     "evalue": "too many values to unpack (expected 3)",
     "output_type": "error",
     "traceback": [
      "\u001b[0;31m---------------------------------------------------------------------------\u001b[0m",
      "\u001b[0;31mValueError\u001b[0m                                Traceback (most recent call last)",
      "\u001b[0;32m<ipython-input-36-43ce7a1f14ea>\u001b[0m in \u001b[0;36m<module>\u001b[0;34m()\u001b[0m\n\u001b[0;32m----> 1\u001b[0;31m \u001b[0mcorrer_experimento\u001b[0m\u001b[0;34m(\u001b[0m\u001b[0;34m'1'\u001b[0m\u001b[0;34m,\u001b[0m \u001b[0;34m'1'\u001b[0m\u001b[0;34m,\u001b[0m \u001b[0;34m[\u001b[0m\u001b[0;34m\"0.txt\"\u001b[0m\u001b[0;34m]\u001b[0m\u001b[0;34m)\u001b[0m\u001b[0;34m\u001b[0m\u001b[0;34m\u001b[0m\u001b[0m\n\u001b[0m",
      "\u001b[0;32m<ipython-input-34-d4034ebd1022>\u001b[0m in \u001b[0;36mcorrer_experimento\u001b[0;34m(t_leer, t_max, files)\u001b[0m\n\u001b[1;32m      8\u001b[0m     \u001b[0mexit_code\u001b[0m \u001b[0;34m=\u001b[0m \u001b[0mprocess\u001b[0m\u001b[0;34m.\u001b[0m\u001b[0mwait\u001b[0m\u001b[0;34m(\u001b[0m\u001b[0;34m)\u001b[0m\u001b[0;34m\u001b[0m\u001b[0;34m\u001b[0m\u001b[0m\n\u001b[1;32m      9\u001b[0m \u001b[0;34m\u001b[0m\u001b[0m\n\u001b[0;32m---> 10\u001b[0;31m     \u001b[0mtime_l\u001b[0m\u001b[0;34m,\u001b[0m \u001b[0mtime_max\u001b[0m\u001b[0;34m,\u001b[0m \u001b[0m_\u001b[0m \u001b[0;34m=\u001b[0m \u001b[0mtuple\u001b[0m\u001b[0;34m(\u001b[0m\u001b[0mprocess\u001b[0m\u001b[0;34m.\u001b[0m\u001b[0mstderr\u001b[0m\u001b[0;34m.\u001b[0m\u001b[0mread\u001b[0m\u001b[0;34m(\u001b[0m\u001b[0;34m)\u001b[0m\u001b[0;34m.\u001b[0m\u001b[0msplit\u001b[0m\u001b[0;34m(\u001b[0m\u001b[0;34m\"\\n\"\u001b[0m\u001b[0;34m)\u001b[0m\u001b[0;34m)\u001b[0m\u001b[0;34m\u001b[0m\u001b[0;34m\u001b[0m\u001b[0m\n\u001b[0m\u001b[1;32m     11\u001b[0m \u001b[0;34m\u001b[0m\u001b[0m\n\u001b[1;32m     12\u001b[0m     \u001b[0mprocess\u001b[0m\u001b[0;34m.\u001b[0m\u001b[0mstdin\u001b[0m\u001b[0;34m.\u001b[0m\u001b[0mclose\u001b[0m\u001b[0;34m(\u001b[0m\u001b[0;34m)\u001b[0m\u001b[0;34m;\u001b[0m\u001b[0;34m\u001b[0m\u001b[0;34m\u001b[0m\u001b[0m\n",
      "\u001b[0;31mValueError\u001b[0m: too many values to unpack (expected 3)"
     ]
    }
   ],
   "source": [
    "correr_experimento('1', '1', [\"0.txt\"])"
   ]
  },
  {
   "cell_type": "markdown",
   "metadata": {},
   "source": [
    "## Todos los tipos"
   ]
  },
  {
   "cell_type": "code",
   "execution_count": 43,
   "metadata": {},
   "outputs": [],
   "source": [
    "cantArchivos = 8\n",
    "archivos = []\n",
    "for _ in range(cantArchivos):\n",
    "    archivos.append(f'instancias/{random.randint(1, 20)}.txt')\n",
    "\n",
    "for threadsLectura in range(1, cantArchivos + 1):\n",
    "    for threadsMax in range(1, 26 + 1):\n",
    "        runs.append([str(threadsLectura), str(threadsMax), archivos, '1'])"
   ]
  },
  {
   "cell_type": "markdown",
   "metadata": {},
   "source": [
    "# experimento : threadsMaximo"
   ]
  },
  {
   "cell_type": "code",
   "execution_count": 44,
   "metadata": {},
   "outputs": [
    {
     "name": "stdout",
     "output_type": "stream",
     "text": [
      "[['1', '1', ['instancias/9.txt', 'instancias/18.txt', 'instancias/10.txt', 'instancias/15.txt', 'instancias/4.txt', 'instancias/1.txt', 'instancias/13.txt', 'instancias/2.txt'], '1'], ['1', '2', ['instancias/9.txt', 'instancias/18.txt', 'instancias/10.txt', 'instancias/15.txt', 'instancias/4.txt', 'instancias/1.txt', 'instancias/13.txt', 'instancias/2.txt'], '1'], ['1', '3', ['instancias/9.txt', 'instancias/18.txt', 'instancias/10.txt', 'instancias/15.txt', 'instancias/4.txt', 'instancias/1.txt', 'instancias/13.txt', 'instancias/2.txt'], '1'], ['1', '4', ['instancias/9.txt', 'instancias/18.txt', 'instancias/10.txt', 'instancias/15.txt', 'instancias/4.txt', 'instancias/1.txt', 'instancias/13.txt', 'instancias/2.txt'], '1'], ['1', '5', ['instancias/9.txt', 'instancias/18.txt', 'instancias/10.txt', 'instancias/15.txt', 'instancias/4.txt', 'instancias/1.txt', 'instancias/13.txt', 'instancias/2.txt'], '1'], ['1', '6', ['instancias/9.txt', 'instancias/18.txt', 'instancias/10.txt', 'instancias/15.txt', 'instancias/4.txt', 'instancias/1.txt', 'instancias/13.txt', 'instancias/2.txt'], '1'], ['1', '7', ['instancias/9.txt', 'instancias/18.txt', 'instancias/10.txt', 'instancias/15.txt', 'instancias/4.txt', 'instancias/1.txt', 'instancias/13.txt', 'instancias/2.txt'], '1'], ['1', '8', ['instancias/9.txt', 'instancias/18.txt', 'instancias/10.txt', 'instancias/15.txt', 'instancias/4.txt', 'instancias/1.txt', 'instancias/13.txt', 'instancias/2.txt'], '1'], ['1', '9', ['instancias/9.txt', 'instancias/18.txt', 'instancias/10.txt', 'instancias/15.txt', 'instancias/4.txt', 'instancias/1.txt', 'instancias/13.txt', 'instancias/2.txt'], '1'], ['1', '10', ['instancias/9.txt', 'instancias/18.txt', 'instancias/10.txt', 'instancias/15.txt', 'instancias/4.txt', 'instancias/1.txt', 'instancias/13.txt', 'instancias/2.txt'], '1'], ['1', '11', ['instancias/9.txt', 'instancias/18.txt', 'instancias/10.txt', 'instancias/15.txt', 'instancias/4.txt', 'instancias/1.txt', 'instancias/13.txt', 'instancias/2.txt'], '1'], ['1', '12', ['instancias/9.txt', 'instancias/18.txt', 'instancias/10.txt', 'instancias/15.txt', 'instancias/4.txt', 'instancias/1.txt', 'instancias/13.txt', 'instancias/2.txt'], '1'], ['1', '13', ['instancias/9.txt', 'instancias/18.txt', 'instancias/10.txt', 'instancias/15.txt', 'instancias/4.txt', 'instancias/1.txt', 'instancias/13.txt', 'instancias/2.txt'], '1'], ['1', '14', ['instancias/9.txt', 'instancias/18.txt', 'instancias/10.txt', 'instancias/15.txt', 'instancias/4.txt', 'instancias/1.txt', 'instancias/13.txt', 'instancias/2.txt'], '1'], ['1', '15', ['instancias/9.txt', 'instancias/18.txt', 'instancias/10.txt', 'instancias/15.txt', 'instancias/4.txt', 'instancias/1.txt', 'instancias/13.txt', 'instancias/2.txt'], '1'], ['1', '16', ['instancias/9.txt', 'instancias/18.txt', 'instancias/10.txt', 'instancias/15.txt', 'instancias/4.txt', 'instancias/1.txt', 'instancias/13.txt', 'instancias/2.txt'], '1'], ['1', '17', ['instancias/9.txt', 'instancias/18.txt', 'instancias/10.txt', 'instancias/15.txt', 'instancias/4.txt', 'instancias/1.txt', 'instancias/13.txt', 'instancias/2.txt'], '1'], ['1', '18', ['instancias/9.txt', 'instancias/18.txt', 'instancias/10.txt', 'instancias/15.txt', 'instancias/4.txt', 'instancias/1.txt', 'instancias/13.txt', 'instancias/2.txt'], '1'], ['1', '19', ['instancias/9.txt', 'instancias/18.txt', 'instancias/10.txt', 'instancias/15.txt', 'instancias/4.txt', 'instancias/1.txt', 'instancias/13.txt', 'instancias/2.txt'], '1'], ['1', '20', ['instancias/9.txt', 'instancias/18.txt', 'instancias/10.txt', 'instancias/15.txt', 'instancias/4.txt', 'instancias/1.txt', 'instancias/13.txt', 'instancias/2.txt'], '1'], ['1', '21', ['instancias/9.txt', 'instancias/18.txt', 'instancias/10.txt', 'instancias/15.txt', 'instancias/4.txt', 'instancias/1.txt', 'instancias/13.txt', 'instancias/2.txt'], '1'], ['1', '22', ['instancias/9.txt', 'instancias/18.txt', 'instancias/10.txt', 'instancias/15.txt', 'instancias/4.txt', 'instancias/1.txt', 'instancias/13.txt', 'instancias/2.txt'], '1'], ['1', '23', ['instancias/9.txt', 'instancias/18.txt', 'instancias/10.txt', 'instancias/15.txt', 'instancias/4.txt', 'instancias/1.txt', 'instancias/13.txt', 'instancias/2.txt'], '1'], ['1', '24', ['instancias/9.txt', 'instancias/18.txt', 'instancias/10.txt', 'instancias/15.txt', 'instancias/4.txt', 'instancias/1.txt', 'instancias/13.txt', 'instancias/2.txt'], '1'], ['1', '25', ['instancias/9.txt', 'instancias/18.txt', 'instancias/10.txt', 'instancias/15.txt', 'instancias/4.txt', 'instancias/1.txt', 'instancias/13.txt', 'instancias/2.txt'], '1'], ['1', '26', ['instancias/9.txt', 'instancias/18.txt', 'instancias/10.txt', 'instancias/15.txt', 'instancias/4.txt', 'instancias/1.txt', 'instancias/13.txt', 'instancias/2.txt'], '1'], ['2', '1', ['instancias/9.txt', 'instancias/18.txt', 'instancias/10.txt', 'instancias/15.txt', 'instancias/4.txt', 'instancias/1.txt', 'instancias/13.txt', 'instancias/2.txt'], '1'], ['2', '2', ['instancias/9.txt', 'instancias/18.txt', 'instancias/10.txt', 'instancias/15.txt', 'instancias/4.txt', 'instancias/1.txt', 'instancias/13.txt', 'instancias/2.txt'], '1'], ['2', '3', ['instancias/9.txt', 'instancias/18.txt', 'instancias/10.txt', 'instancias/15.txt', 'instancias/4.txt', 'instancias/1.txt', 'instancias/13.txt', 'instancias/2.txt'], '1'], ['2', '4', ['instancias/9.txt', 'instancias/18.txt', 'instancias/10.txt', 'instancias/15.txt', 'instancias/4.txt', 'instancias/1.txt', 'instancias/13.txt', 'instancias/2.txt'], '1'], ['2', '5', ['instancias/9.txt', 'instancias/18.txt', 'instancias/10.txt', 'instancias/15.txt', 'instancias/4.txt', 'instancias/1.txt', 'instancias/13.txt', 'instancias/2.txt'], '1'], ['2', '6', ['instancias/9.txt', 'instancias/18.txt', 'instancias/10.txt', 'instancias/15.txt', 'instancias/4.txt', 'instancias/1.txt', 'instancias/13.txt', 'instancias/2.txt'], '1'], ['2', '7', ['instancias/9.txt', 'instancias/18.txt', 'instancias/10.txt', 'instancias/15.txt', 'instancias/4.txt', 'instancias/1.txt', 'instancias/13.txt', 'instancias/2.txt'], '1'], ['2', '8', ['instancias/9.txt', 'instancias/18.txt', 'instancias/10.txt', 'instancias/15.txt', 'instancias/4.txt', 'instancias/1.txt', 'instancias/13.txt', 'instancias/2.txt'], '1'], ['2', '9', ['instancias/9.txt', 'instancias/18.txt', 'instancias/10.txt', 'instancias/15.txt', 'instancias/4.txt', 'instancias/1.txt', 'instancias/13.txt', 'instancias/2.txt'], '1'], ['2', '10', ['instancias/9.txt', 'instancias/18.txt', 'instancias/10.txt', 'instancias/15.txt', 'instancias/4.txt', 'instancias/1.txt', 'instancias/13.txt', 'instancias/2.txt'], '1'], ['2', '11', ['instancias/9.txt', 'instancias/18.txt', 'instancias/10.txt', 'instancias/15.txt', 'instancias/4.txt', 'instancias/1.txt', 'instancias/13.txt', 'instancias/2.txt'], '1'], ['2', '12', ['instancias/9.txt', 'instancias/18.txt', 'instancias/10.txt', 'instancias/15.txt', 'instancias/4.txt', 'instancias/1.txt', 'instancias/13.txt', 'instancias/2.txt'], '1'], ['2', '13', ['instancias/9.txt', 'instancias/18.txt', 'instancias/10.txt', 'instancias/15.txt', 'instancias/4.txt', 'instancias/1.txt', 'instancias/13.txt', 'instancias/2.txt'], '1'], ['2', '14', ['instancias/9.txt', 'instancias/18.txt', 'instancias/10.txt', 'instancias/15.txt', 'instancias/4.txt', 'instancias/1.txt', 'instancias/13.txt', 'instancias/2.txt'], '1'], ['2', '15', ['instancias/9.txt', 'instancias/18.txt', 'instancias/10.txt', 'instancias/15.txt', 'instancias/4.txt', 'instancias/1.txt', 'instancias/13.txt', 'instancias/2.txt'], '1'], ['2', '16', ['instancias/9.txt', 'instancias/18.txt', 'instancias/10.txt', 'instancias/15.txt', 'instancias/4.txt', 'instancias/1.txt', 'instancias/13.txt', 'instancias/2.txt'], '1'], ['2', '17', ['instancias/9.txt', 'instancias/18.txt', 'instancias/10.txt', 'instancias/15.txt', 'instancias/4.txt', 'instancias/1.txt', 'instancias/13.txt', 'instancias/2.txt'], '1'], ['2', '18', ['instancias/9.txt', 'instancias/18.txt', 'instancias/10.txt', 'instancias/15.txt', 'instancias/4.txt', 'instancias/1.txt', 'instancias/13.txt', 'instancias/2.txt'], '1'], ['2', '19', ['instancias/9.txt', 'instancias/18.txt', 'instancias/10.txt', 'instancias/15.txt', 'instancias/4.txt', 'instancias/1.txt', 'instancias/13.txt', 'instancias/2.txt'], '1'], ['2', '20', ['instancias/9.txt', 'instancias/18.txt', 'instancias/10.txt', 'instancias/15.txt', 'instancias/4.txt', 'instancias/1.txt', 'instancias/13.txt', 'instancias/2.txt'], '1'], ['2', '21', ['instancias/9.txt', 'instancias/18.txt', 'instancias/10.txt', 'instancias/15.txt', 'instancias/4.txt', 'instancias/1.txt', 'instancias/13.txt', 'instancias/2.txt'], '1'], ['2', '22', ['instancias/9.txt', 'instancias/18.txt', 'instancias/10.txt', 'instancias/15.txt', 'instancias/4.txt', 'instancias/1.txt', 'instancias/13.txt', 'instancias/2.txt'], '1'], ['2', '23', ['instancias/9.txt', 'instancias/18.txt', 'instancias/10.txt', 'instancias/15.txt', 'instancias/4.txt', 'instancias/1.txt', 'instancias/13.txt', 'instancias/2.txt'], '1'], ['2', '24', ['instancias/9.txt', 'instancias/18.txt', 'instancias/10.txt', 'instancias/15.txt', 'instancias/4.txt', 'instancias/1.txt', 'instancias/13.txt', 'instancias/2.txt'], '1'], ['2', '25', ['instancias/9.txt', 'instancias/18.txt', 'instancias/10.txt', 'instancias/15.txt', 'instancias/4.txt', 'instancias/1.txt', 'instancias/13.txt', 'instancias/2.txt'], '1'], ['2', '26', ['instancias/9.txt', 'instancias/18.txt', 'instancias/10.txt', 'instancias/15.txt', 'instancias/4.txt', 'instancias/1.txt', 'instancias/13.txt', 'instancias/2.txt'], '1'], ['3', '1', ['instancias/9.txt', 'instancias/18.txt', 'instancias/10.txt', 'instancias/15.txt', 'instancias/4.txt', 'instancias/1.txt', 'instancias/13.txt', 'instancias/2.txt'], '1'], ['3', '2', ['instancias/9.txt', 'instancias/18.txt', 'instancias/10.txt', 'instancias/15.txt', 'instancias/4.txt', 'instancias/1.txt', 'instancias/13.txt', 'instancias/2.txt'], '1'], ['3', '3', ['instancias/9.txt', 'instancias/18.txt', 'instancias/10.txt', 'instancias/15.txt', 'instancias/4.txt', 'instancias/1.txt', 'instancias/13.txt', 'instancias/2.txt'], '1'], ['3', '4', ['instancias/9.txt', 'instancias/18.txt', 'instancias/10.txt', 'instancias/15.txt', 'instancias/4.txt', 'instancias/1.txt', 'instancias/13.txt', 'instancias/2.txt'], '1'], ['3', '5', ['instancias/9.txt', 'instancias/18.txt', 'instancias/10.txt', 'instancias/15.txt', 'instancias/4.txt', 'instancias/1.txt', 'instancias/13.txt', 'instancias/2.txt'], '1'], ['3', '6', ['instancias/9.txt', 'instancias/18.txt', 'instancias/10.txt', 'instancias/15.txt', 'instancias/4.txt', 'instancias/1.txt', 'instancias/13.txt', 'instancias/2.txt'], '1'], ['3', '7', ['instancias/9.txt', 'instancias/18.txt', 'instancias/10.txt', 'instancias/15.txt', 'instancias/4.txt', 'instancias/1.txt', 'instancias/13.txt', 'instancias/2.txt'], '1'], ['3', '8', ['instancias/9.txt', 'instancias/18.txt', 'instancias/10.txt', 'instancias/15.txt', 'instancias/4.txt', 'instancias/1.txt', 'instancias/13.txt', 'instancias/2.txt'], '1'], ['3', '9', ['instancias/9.txt', 'instancias/18.txt', 'instancias/10.txt', 'instancias/15.txt', 'instancias/4.txt', 'instancias/1.txt', 'instancias/13.txt', 'instancias/2.txt'], '1'], ['3', '10', ['instancias/9.txt', 'instancias/18.txt', 'instancias/10.txt', 'instancias/15.txt', 'instancias/4.txt', 'instancias/1.txt', 'instancias/13.txt', 'instancias/2.txt'], '1'], ['3', '11', ['instancias/9.txt', 'instancias/18.txt', 'instancias/10.txt', 'instancias/15.txt', 'instancias/4.txt', 'instancias/1.txt', 'instancias/13.txt', 'instancias/2.txt'], '1'], ['3', '12', ['instancias/9.txt', 'instancias/18.txt', 'instancias/10.txt', 'instancias/15.txt', 'instancias/4.txt', 'instancias/1.txt', 'instancias/13.txt', 'instancias/2.txt'], '1'], ['3', '13', ['instancias/9.txt', 'instancias/18.txt', 'instancias/10.txt', 'instancias/15.txt', 'instancias/4.txt', 'instancias/1.txt', 'instancias/13.txt', 'instancias/2.txt'], '1'], ['3', '14', ['instancias/9.txt', 'instancias/18.txt', 'instancias/10.txt', 'instancias/15.txt', 'instancias/4.txt', 'instancias/1.txt', 'instancias/13.txt', 'instancias/2.txt'], '1'], ['3', '15', ['instancias/9.txt', 'instancias/18.txt', 'instancias/10.txt', 'instancias/15.txt', 'instancias/4.txt', 'instancias/1.txt', 'instancias/13.txt', 'instancias/2.txt'], '1'], ['3', '16', ['instancias/9.txt', 'instancias/18.txt', 'instancias/10.txt', 'instancias/15.txt', 'instancias/4.txt', 'instancias/1.txt', 'instancias/13.txt', 'instancias/2.txt'], '1'], ['3', '17', ['instancias/9.txt', 'instancias/18.txt', 'instancias/10.txt', 'instancias/15.txt', 'instancias/4.txt', 'instancias/1.txt', 'instancias/13.txt', 'instancias/2.txt'], '1'], ['3', '18', ['instancias/9.txt', 'instancias/18.txt', 'instancias/10.txt', 'instancias/15.txt', 'instancias/4.txt', 'instancias/1.txt', 'instancias/13.txt', 'instancias/2.txt'], '1'], ['3', '19', ['instancias/9.txt', 'instancias/18.txt', 'instancias/10.txt', 'instancias/15.txt', 'instancias/4.txt', 'instancias/1.txt', 'instancias/13.txt', 'instancias/2.txt'], '1'], ['3', '20', ['instancias/9.txt', 'instancias/18.txt', 'instancias/10.txt', 'instancias/15.txt', 'instancias/4.txt', 'instancias/1.txt', 'instancias/13.txt', 'instancias/2.txt'], '1'], ['3', '21', ['instancias/9.txt', 'instancias/18.txt', 'instancias/10.txt', 'instancias/15.txt', 'instancias/4.txt', 'instancias/1.txt', 'instancias/13.txt', 'instancias/2.txt'], '1'], ['3', '22', ['instancias/9.txt', 'instancias/18.txt', 'instancias/10.txt', 'instancias/15.txt', 'instancias/4.txt', 'instancias/1.txt', 'instancias/13.txt', 'instancias/2.txt'], '1'], ['3', '23', ['instancias/9.txt', 'instancias/18.txt', 'instancias/10.txt', 'instancias/15.txt', 'instancias/4.txt', 'instancias/1.txt', 'instancias/13.txt', 'instancias/2.txt'], '1'], ['3', '24', ['instancias/9.txt', 'instancias/18.txt', 'instancias/10.txt', 'instancias/15.txt', 'instancias/4.txt', 'instancias/1.txt', 'instancias/13.txt', 'instancias/2.txt'], '1'], ['3', '25', ['instancias/9.txt', 'instancias/18.txt', 'instancias/10.txt', 'instancias/15.txt', 'instancias/4.txt', 'instancias/1.txt', 'instancias/13.txt', 'instancias/2.txt'], '1'], ['3', '26', ['instancias/9.txt', 'instancias/18.txt', 'instancias/10.txt', 'instancias/15.txt', 'instancias/4.txt', 'instancias/1.txt', 'instancias/13.txt', 'instancias/2.txt'], '1'], ['4', '1', ['instancias/9.txt', 'instancias/18.txt', 'instancias/10.txt', 'instancias/15.txt', 'instancias/4.txt', 'instancias/1.txt', 'instancias/13.txt', 'instancias/2.txt'], '1'], ['4', '2', ['instancias/9.txt', 'instancias/18.txt', 'instancias/10.txt', 'instancias/15.txt', 'instancias/4.txt', 'instancias/1.txt', 'instancias/13.txt', 'instancias/2.txt'], '1'], ['4', '3', ['instancias/9.txt', 'instancias/18.txt', 'instancias/10.txt', 'instancias/15.txt', 'instancias/4.txt', 'instancias/1.txt', 'instancias/13.txt', 'instancias/2.txt'], '1'], ['4', '4', ['instancias/9.txt', 'instancias/18.txt', 'instancias/10.txt', 'instancias/15.txt', 'instancias/4.txt', 'instancias/1.txt', 'instancias/13.txt', 'instancias/2.txt'], '1'], ['4', '5', ['instancias/9.txt', 'instancias/18.txt', 'instancias/10.txt', 'instancias/15.txt', 'instancias/4.txt', 'instancias/1.txt', 'instancias/13.txt', 'instancias/2.txt'], '1'], ['4', '6', ['instancias/9.txt', 'instancias/18.txt', 'instancias/10.txt', 'instancias/15.txt', 'instancias/4.txt', 'instancias/1.txt', 'instancias/13.txt', 'instancias/2.txt'], '1'], ['4', '7', ['instancias/9.txt', 'instancias/18.txt', 'instancias/10.txt', 'instancias/15.txt', 'instancias/4.txt', 'instancias/1.txt', 'instancias/13.txt', 'instancias/2.txt'], '1'], ['4', '8', ['instancias/9.txt', 'instancias/18.txt', 'instancias/10.txt', 'instancias/15.txt', 'instancias/4.txt', 'instancias/1.txt', 'instancias/13.txt', 'instancias/2.txt'], '1'], ['4', '9', ['instancias/9.txt', 'instancias/18.txt', 'instancias/10.txt', 'instancias/15.txt', 'instancias/4.txt', 'instancias/1.txt', 'instancias/13.txt', 'instancias/2.txt'], '1'], ['4', '10', ['instancias/9.txt', 'instancias/18.txt', 'instancias/10.txt', 'instancias/15.txt', 'instancias/4.txt', 'instancias/1.txt', 'instancias/13.txt', 'instancias/2.txt'], '1'], ['4', '11', ['instancias/9.txt', 'instancias/18.txt', 'instancias/10.txt', 'instancias/15.txt', 'instancias/4.txt', 'instancias/1.txt', 'instancias/13.txt', 'instancias/2.txt'], '1'], ['4', '12', ['instancias/9.txt', 'instancias/18.txt', 'instancias/10.txt', 'instancias/15.txt', 'instancias/4.txt', 'instancias/1.txt', 'instancias/13.txt', 'instancias/2.txt'], '1'], ['4', '13', ['instancias/9.txt', 'instancias/18.txt', 'instancias/10.txt', 'instancias/15.txt', 'instancias/4.txt', 'instancias/1.txt', 'instancias/13.txt', 'instancias/2.txt'], '1'], ['4', '14', ['instancias/9.txt', 'instancias/18.txt', 'instancias/10.txt', 'instancias/15.txt', 'instancias/4.txt', 'instancias/1.txt', 'instancias/13.txt', 'instancias/2.txt'], '1'], ['4', '15', ['instancias/9.txt', 'instancias/18.txt', 'instancias/10.txt', 'instancias/15.txt', 'instancias/4.txt', 'instancias/1.txt', 'instancias/13.txt', 'instancias/2.txt'], '1'], ['4', '16', ['instancias/9.txt', 'instancias/18.txt', 'instancias/10.txt', 'instancias/15.txt', 'instancias/4.txt', 'instancias/1.txt', 'instancias/13.txt', 'instancias/2.txt'], '1'], ['4', '17', ['instancias/9.txt', 'instancias/18.txt', 'instancias/10.txt', 'instancias/15.txt', 'instancias/4.txt', 'instancias/1.txt', 'instancias/13.txt', 'instancias/2.txt'], '1'], ['4', '18', ['instancias/9.txt', 'instancias/18.txt', 'instancias/10.txt', 'instancias/15.txt', 'instancias/4.txt', 'instancias/1.txt', 'instancias/13.txt', 'instancias/2.txt'], '1'], ['4', '19', ['instancias/9.txt', 'instancias/18.txt', 'instancias/10.txt', 'instancias/15.txt', 'instancias/4.txt', 'instancias/1.txt', 'instancias/13.txt', 'instancias/2.txt'], '1'], ['4', '20', ['instancias/9.txt', 'instancias/18.txt', 'instancias/10.txt', 'instancias/15.txt', 'instancias/4.txt', 'instancias/1.txt', 'instancias/13.txt', 'instancias/2.txt'], '1'], ['4', '21', ['instancias/9.txt', 'instancias/18.txt', 'instancias/10.txt', 'instancias/15.txt', 'instancias/4.txt', 'instancias/1.txt', 'instancias/13.txt', 'instancias/2.txt'], '1'], ['4', '22', ['instancias/9.txt', 'instancias/18.txt', 'instancias/10.txt', 'instancias/15.txt', 'instancias/4.txt', 'instancias/1.txt', 'instancias/13.txt', 'instancias/2.txt'], '1'], ['4', '23', ['instancias/9.txt', 'instancias/18.txt', 'instancias/10.txt', 'instancias/15.txt', 'instancias/4.txt', 'instancias/1.txt', 'instancias/13.txt', 'instancias/2.txt'], '1'], ['4', '24', ['instancias/9.txt', 'instancias/18.txt', 'instancias/10.txt', 'instancias/15.txt', 'instancias/4.txt', 'instancias/1.txt', 'instancias/13.txt', 'instancias/2.txt'], '1'], ['4', '25', ['instancias/9.txt', 'instancias/18.txt', 'instancias/10.txt', 'instancias/15.txt', 'instancias/4.txt', 'instancias/1.txt', 'instancias/13.txt', 'instancias/2.txt'], '1'], ['4', '26', ['instancias/9.txt', 'instancias/18.txt', 'instancias/10.txt', 'instancias/15.txt', 'instancias/4.txt', 'instancias/1.txt', 'instancias/13.txt', 'instancias/2.txt'], '1'], ['5', '1', ['instancias/9.txt', 'instancias/18.txt', 'instancias/10.txt', 'instancias/15.txt', 'instancias/4.txt', 'instancias/1.txt', 'instancias/13.txt', 'instancias/2.txt'], '1'], ['5', '2', ['instancias/9.txt', 'instancias/18.txt', 'instancias/10.txt', 'instancias/15.txt', 'instancias/4.txt', 'instancias/1.txt', 'instancias/13.txt', 'instancias/2.txt'], '1'], ['5', '3', ['instancias/9.txt', 'instancias/18.txt', 'instancias/10.txt', 'instancias/15.txt', 'instancias/4.txt', 'instancias/1.txt', 'instancias/13.txt', 'instancias/2.txt'], '1'], ['5', '4', ['instancias/9.txt', 'instancias/18.txt', 'instancias/10.txt', 'instancias/15.txt', 'instancias/4.txt', 'instancias/1.txt', 'instancias/13.txt', 'instancias/2.txt'], '1'], ['5', '5', ['instancias/9.txt', 'instancias/18.txt', 'instancias/10.txt', 'instancias/15.txt', 'instancias/4.txt', 'instancias/1.txt', 'instancias/13.txt', 'instancias/2.txt'], '1'], ['5', '6', ['instancias/9.txt', 'instancias/18.txt', 'instancias/10.txt', 'instancias/15.txt', 'instancias/4.txt', 'instancias/1.txt', 'instancias/13.txt', 'instancias/2.txt'], '1'], ['5', '7', ['instancias/9.txt', 'instancias/18.txt', 'instancias/10.txt', 'instancias/15.txt', 'instancias/4.txt', 'instancias/1.txt', 'instancias/13.txt', 'instancias/2.txt'], '1'], ['5', '8', ['instancias/9.txt', 'instancias/18.txt', 'instancias/10.txt', 'instancias/15.txt', 'instancias/4.txt', 'instancias/1.txt', 'instancias/13.txt', 'instancias/2.txt'], '1'], ['5', '9', ['instancias/9.txt', 'instancias/18.txt', 'instancias/10.txt', 'instancias/15.txt', 'instancias/4.txt', 'instancias/1.txt', 'instancias/13.txt', 'instancias/2.txt'], '1'], ['5', '10', ['instancias/9.txt', 'instancias/18.txt', 'instancias/10.txt', 'instancias/15.txt', 'instancias/4.txt', 'instancias/1.txt', 'instancias/13.txt', 'instancias/2.txt'], '1'], ['5', '11', ['instancias/9.txt', 'instancias/18.txt', 'instancias/10.txt', 'instancias/15.txt', 'instancias/4.txt', 'instancias/1.txt', 'instancias/13.txt', 'instancias/2.txt'], '1'], ['5', '12', ['instancias/9.txt', 'instancias/18.txt', 'instancias/10.txt', 'instancias/15.txt', 'instancias/4.txt', 'instancias/1.txt', 'instancias/13.txt', 'instancias/2.txt'], '1'], ['5', '13', ['instancias/9.txt', 'instancias/18.txt', 'instancias/10.txt', 'instancias/15.txt', 'instancias/4.txt', 'instancias/1.txt', 'instancias/13.txt', 'instancias/2.txt'], '1'], ['5', '14', ['instancias/9.txt', 'instancias/18.txt', 'instancias/10.txt', 'instancias/15.txt', 'instancias/4.txt', 'instancias/1.txt', 'instancias/13.txt', 'instancias/2.txt'], '1'], ['5', '15', ['instancias/9.txt', 'instancias/18.txt', 'instancias/10.txt', 'instancias/15.txt', 'instancias/4.txt', 'instancias/1.txt', 'instancias/13.txt', 'instancias/2.txt'], '1'], ['5', '16', ['instancias/9.txt', 'instancias/18.txt', 'instancias/10.txt', 'instancias/15.txt', 'instancias/4.txt', 'instancias/1.txt', 'instancias/13.txt', 'instancias/2.txt'], '1'], ['5', '17', ['instancias/9.txt', 'instancias/18.txt', 'instancias/10.txt', 'instancias/15.txt', 'instancias/4.txt', 'instancias/1.txt', 'instancias/13.txt', 'instancias/2.txt'], '1'], ['5', '18', ['instancias/9.txt', 'instancias/18.txt', 'instancias/10.txt', 'instancias/15.txt', 'instancias/4.txt', 'instancias/1.txt', 'instancias/13.txt', 'instancias/2.txt'], '1'], ['5', '19', ['instancias/9.txt', 'instancias/18.txt', 'instancias/10.txt', 'instancias/15.txt', 'instancias/4.txt', 'instancias/1.txt', 'instancias/13.txt', 'instancias/2.txt'], '1'], ['5', '20', ['instancias/9.txt', 'instancias/18.txt', 'instancias/10.txt', 'instancias/15.txt', 'instancias/4.txt', 'instancias/1.txt', 'instancias/13.txt', 'instancias/2.txt'], '1'], ['5', '21', ['instancias/9.txt', 'instancias/18.txt', 'instancias/10.txt', 'instancias/15.txt', 'instancias/4.txt', 'instancias/1.txt', 'instancias/13.txt', 'instancias/2.txt'], '1'], ['5', '22', ['instancias/9.txt', 'instancias/18.txt', 'instancias/10.txt', 'instancias/15.txt', 'instancias/4.txt', 'instancias/1.txt', 'instancias/13.txt', 'instancias/2.txt'], '1'], ['5', '23', ['instancias/9.txt', 'instancias/18.txt', 'instancias/10.txt', 'instancias/15.txt', 'instancias/4.txt', 'instancias/1.txt', 'instancias/13.txt', 'instancias/2.txt'], '1'], ['5', '24', ['instancias/9.txt', 'instancias/18.txt', 'instancias/10.txt', 'instancias/15.txt', 'instancias/4.txt', 'instancias/1.txt', 'instancias/13.txt', 'instancias/2.txt'], '1'], ['5', '25', ['instancias/9.txt', 'instancias/18.txt', 'instancias/10.txt', 'instancias/15.txt', 'instancias/4.txt', 'instancias/1.txt', 'instancias/13.txt', 'instancias/2.txt'], '1'], ['5', '26', ['instancias/9.txt', 'instancias/18.txt', 'instancias/10.txt', 'instancias/15.txt', 'instancias/4.txt', 'instancias/1.txt', 'instancias/13.txt', 'instancias/2.txt'], '1'], ['6', '1', ['instancias/9.txt', 'instancias/18.txt', 'instancias/10.txt', 'instancias/15.txt', 'instancias/4.txt', 'instancias/1.txt', 'instancias/13.txt', 'instancias/2.txt'], '1'], ['6', '2', ['instancias/9.txt', 'instancias/18.txt', 'instancias/10.txt', 'instancias/15.txt', 'instancias/4.txt', 'instancias/1.txt', 'instancias/13.txt', 'instancias/2.txt'], '1'], ['6', '3', ['instancias/9.txt', 'instancias/18.txt', 'instancias/10.txt', 'instancias/15.txt', 'instancias/4.txt', 'instancias/1.txt', 'instancias/13.txt', 'instancias/2.txt'], '1'], ['6', '4', ['instancias/9.txt', 'instancias/18.txt', 'instancias/10.txt', 'instancias/15.txt', 'instancias/4.txt', 'instancias/1.txt', 'instancias/13.txt', 'instancias/2.txt'], '1'], ['6', '5', ['instancias/9.txt', 'instancias/18.txt', 'instancias/10.txt', 'instancias/15.txt', 'instancias/4.txt', 'instancias/1.txt', 'instancias/13.txt', 'instancias/2.txt'], '1'], ['6', '6', ['instancias/9.txt', 'instancias/18.txt', 'instancias/10.txt', 'instancias/15.txt', 'instancias/4.txt', 'instancias/1.txt', 'instancias/13.txt', 'instancias/2.txt'], '1'], ['6', '7', ['instancias/9.txt', 'instancias/18.txt', 'instancias/10.txt', 'instancias/15.txt', 'instancias/4.txt', 'instancias/1.txt', 'instancias/13.txt', 'instancias/2.txt'], '1'], ['6', '8', ['instancias/9.txt', 'instancias/18.txt', 'instancias/10.txt', 'instancias/15.txt', 'instancias/4.txt', 'instancias/1.txt', 'instancias/13.txt', 'instancias/2.txt'], '1'], ['6', '9', ['instancias/9.txt', 'instancias/18.txt', 'instancias/10.txt', 'instancias/15.txt', 'instancias/4.txt', 'instancias/1.txt', 'instancias/13.txt', 'instancias/2.txt'], '1'], ['6', '10', ['instancias/9.txt', 'instancias/18.txt', 'instancias/10.txt', 'instancias/15.txt', 'instancias/4.txt', 'instancias/1.txt', 'instancias/13.txt', 'instancias/2.txt'], '1'], ['6', '11', ['instancias/9.txt', 'instancias/18.txt', 'instancias/10.txt', 'instancias/15.txt', 'instancias/4.txt', 'instancias/1.txt', 'instancias/13.txt', 'instancias/2.txt'], '1'], ['6', '12', ['instancias/9.txt', 'instancias/18.txt', 'instancias/10.txt', 'instancias/15.txt', 'instancias/4.txt', 'instancias/1.txt', 'instancias/13.txt', 'instancias/2.txt'], '1'], ['6', '13', ['instancias/9.txt', 'instancias/18.txt', 'instancias/10.txt', 'instancias/15.txt', 'instancias/4.txt', 'instancias/1.txt', 'instancias/13.txt', 'instancias/2.txt'], '1'], ['6', '14', ['instancias/9.txt', 'instancias/18.txt', 'instancias/10.txt', 'instancias/15.txt', 'instancias/4.txt', 'instancias/1.txt', 'instancias/13.txt', 'instancias/2.txt'], '1'], ['6', '15', ['instancias/9.txt', 'instancias/18.txt', 'instancias/10.txt', 'instancias/15.txt', 'instancias/4.txt', 'instancias/1.txt', 'instancias/13.txt', 'instancias/2.txt'], '1'], ['6', '16', ['instancias/9.txt', 'instancias/18.txt', 'instancias/10.txt', 'instancias/15.txt', 'instancias/4.txt', 'instancias/1.txt', 'instancias/13.txt', 'instancias/2.txt'], '1'], ['6', '17', ['instancias/9.txt', 'instancias/18.txt', 'instancias/10.txt', 'instancias/15.txt', 'instancias/4.txt', 'instancias/1.txt', 'instancias/13.txt', 'instancias/2.txt'], '1'], ['6', '18', ['instancias/9.txt', 'instancias/18.txt', 'instancias/10.txt', 'instancias/15.txt', 'instancias/4.txt', 'instancias/1.txt', 'instancias/13.txt', 'instancias/2.txt'], '1'], ['6', '19', ['instancias/9.txt', 'instancias/18.txt', 'instancias/10.txt', 'instancias/15.txt', 'instancias/4.txt', 'instancias/1.txt', 'instancias/13.txt', 'instancias/2.txt'], '1'], ['6', '20', ['instancias/9.txt', 'instancias/18.txt', 'instancias/10.txt', 'instancias/15.txt', 'instancias/4.txt', 'instancias/1.txt', 'instancias/13.txt', 'instancias/2.txt'], '1'], ['6', '21', ['instancias/9.txt', 'instancias/18.txt', 'instancias/10.txt', 'instancias/15.txt', 'instancias/4.txt', 'instancias/1.txt', 'instancias/13.txt', 'instancias/2.txt'], '1'], ['6', '22', ['instancias/9.txt', 'instancias/18.txt', 'instancias/10.txt', 'instancias/15.txt', 'instancias/4.txt', 'instancias/1.txt', 'instancias/13.txt', 'instancias/2.txt'], '1'], ['6', '23', ['instancias/9.txt', 'instancias/18.txt', 'instancias/10.txt', 'instancias/15.txt', 'instancias/4.txt', 'instancias/1.txt', 'instancias/13.txt', 'instancias/2.txt'], '1'], ['6', '24', ['instancias/9.txt', 'instancias/18.txt', 'instancias/10.txt', 'instancias/15.txt', 'instancias/4.txt', 'instancias/1.txt', 'instancias/13.txt', 'instancias/2.txt'], '1'], ['6', '25', ['instancias/9.txt', 'instancias/18.txt', 'instancias/10.txt', 'instancias/15.txt', 'instancias/4.txt', 'instancias/1.txt', 'instancias/13.txt', 'instancias/2.txt'], '1'], ['6', '26', ['instancias/9.txt', 'instancias/18.txt', 'instancias/10.txt', 'instancias/15.txt', 'instancias/4.txt', 'instancias/1.txt', 'instancias/13.txt', 'instancias/2.txt'], '1'], ['7', '1', ['instancias/9.txt', 'instancias/18.txt', 'instancias/10.txt', 'instancias/15.txt', 'instancias/4.txt', 'instancias/1.txt', 'instancias/13.txt', 'instancias/2.txt'], '1'], ['7', '2', ['instancias/9.txt', 'instancias/18.txt', 'instancias/10.txt', 'instancias/15.txt', 'instancias/4.txt', 'instancias/1.txt', 'instancias/13.txt', 'instancias/2.txt'], '1'], ['7', '3', ['instancias/9.txt', 'instancias/18.txt', 'instancias/10.txt', 'instancias/15.txt', 'instancias/4.txt', 'instancias/1.txt', 'instancias/13.txt', 'instancias/2.txt'], '1'], ['7', '4', ['instancias/9.txt', 'instancias/18.txt', 'instancias/10.txt', 'instancias/15.txt', 'instancias/4.txt', 'instancias/1.txt', 'instancias/13.txt', 'instancias/2.txt'], '1'], ['7', '5', ['instancias/9.txt', 'instancias/18.txt', 'instancias/10.txt', 'instancias/15.txt', 'instancias/4.txt', 'instancias/1.txt', 'instancias/13.txt', 'instancias/2.txt'], '1'], ['7', '6', ['instancias/9.txt', 'instancias/18.txt', 'instancias/10.txt', 'instancias/15.txt', 'instancias/4.txt', 'instancias/1.txt', 'instancias/13.txt', 'instancias/2.txt'], '1'], ['7', '7', ['instancias/9.txt', 'instancias/18.txt', 'instancias/10.txt', 'instancias/15.txt', 'instancias/4.txt', 'instancias/1.txt', 'instancias/13.txt', 'instancias/2.txt'], '1'], ['7', '8', ['instancias/9.txt', 'instancias/18.txt', 'instancias/10.txt', 'instancias/15.txt', 'instancias/4.txt', 'instancias/1.txt', 'instancias/13.txt', 'instancias/2.txt'], '1'], ['7', '9', ['instancias/9.txt', 'instancias/18.txt', 'instancias/10.txt', 'instancias/15.txt', 'instancias/4.txt', 'instancias/1.txt', 'instancias/13.txt', 'instancias/2.txt'], '1'], ['7', '10', ['instancias/9.txt', 'instancias/18.txt', 'instancias/10.txt', 'instancias/15.txt', 'instancias/4.txt', 'instancias/1.txt', 'instancias/13.txt', 'instancias/2.txt'], '1'], ['7', '11', ['instancias/9.txt', 'instancias/18.txt', 'instancias/10.txt', 'instancias/15.txt', 'instancias/4.txt', 'instancias/1.txt', 'instancias/13.txt', 'instancias/2.txt'], '1'], ['7', '12', ['instancias/9.txt', 'instancias/18.txt', 'instancias/10.txt', 'instancias/15.txt', 'instancias/4.txt', 'instancias/1.txt', 'instancias/13.txt', 'instancias/2.txt'], '1'], ['7', '13', ['instancias/9.txt', 'instancias/18.txt', 'instancias/10.txt', 'instancias/15.txt', 'instancias/4.txt', 'instancias/1.txt', 'instancias/13.txt', 'instancias/2.txt'], '1'], ['7', '14', ['instancias/9.txt', 'instancias/18.txt', 'instancias/10.txt', 'instancias/15.txt', 'instancias/4.txt', 'instancias/1.txt', 'instancias/13.txt', 'instancias/2.txt'], '1'], ['7', '15', ['instancias/9.txt', 'instancias/18.txt', 'instancias/10.txt', 'instancias/15.txt', 'instancias/4.txt', 'instancias/1.txt', 'instancias/13.txt', 'instancias/2.txt'], '1'], ['7', '16', ['instancias/9.txt', 'instancias/18.txt', 'instancias/10.txt', 'instancias/15.txt', 'instancias/4.txt', 'instancias/1.txt', 'instancias/13.txt', 'instancias/2.txt'], '1'], ['7', '17', ['instancias/9.txt', 'instancias/18.txt', 'instancias/10.txt', 'instancias/15.txt', 'instancias/4.txt', 'instancias/1.txt', 'instancias/13.txt', 'instancias/2.txt'], '1'], ['7', '18', ['instancias/9.txt', 'instancias/18.txt', 'instancias/10.txt', 'instancias/15.txt', 'instancias/4.txt', 'instancias/1.txt', 'instancias/13.txt', 'instancias/2.txt'], '1'], ['7', '19', ['instancias/9.txt', 'instancias/18.txt', 'instancias/10.txt', 'instancias/15.txt', 'instancias/4.txt', 'instancias/1.txt', 'instancias/13.txt', 'instancias/2.txt'], '1'], ['7', '20', ['instancias/9.txt', 'instancias/18.txt', 'instancias/10.txt', 'instancias/15.txt', 'instancias/4.txt', 'instancias/1.txt', 'instancias/13.txt', 'instancias/2.txt'], '1'], ['7', '21', ['instancias/9.txt', 'instancias/18.txt', 'instancias/10.txt', 'instancias/15.txt', 'instancias/4.txt', 'instancias/1.txt', 'instancias/13.txt', 'instancias/2.txt'], '1'], ['7', '22', ['instancias/9.txt', 'instancias/18.txt', 'instancias/10.txt', 'instancias/15.txt', 'instancias/4.txt', 'instancias/1.txt', 'instancias/13.txt', 'instancias/2.txt'], '1'], ['7', '23', ['instancias/9.txt', 'instancias/18.txt', 'instancias/10.txt', 'instancias/15.txt', 'instancias/4.txt', 'instancias/1.txt', 'instancias/13.txt', 'instancias/2.txt'], '1'], ['7', '24', ['instancias/9.txt', 'instancias/18.txt', 'instancias/10.txt', 'instancias/15.txt', 'instancias/4.txt', 'instancias/1.txt', 'instancias/13.txt', 'instancias/2.txt'], '1'], ['7', '25', ['instancias/9.txt', 'instancias/18.txt', 'instancias/10.txt', 'instancias/15.txt', 'instancias/4.txt', 'instancias/1.txt', 'instancias/13.txt', 'instancias/2.txt'], '1'], ['7', '26', ['instancias/9.txt', 'instancias/18.txt', 'instancias/10.txt', 'instancias/15.txt', 'instancias/4.txt', 'instancias/1.txt', 'instancias/13.txt', 'instancias/2.txt'], '1'], ['8', '1', ['instancias/9.txt', 'instancias/18.txt', 'instancias/10.txt', 'instancias/15.txt', 'instancias/4.txt', 'instancias/1.txt', 'instancias/13.txt', 'instancias/2.txt'], '1'], ['8', '2', ['instancias/9.txt', 'instancias/18.txt', 'instancias/10.txt', 'instancias/15.txt', 'instancias/4.txt', 'instancias/1.txt', 'instancias/13.txt', 'instancias/2.txt'], '1'], ['8', '3', ['instancias/9.txt', 'instancias/18.txt', 'instancias/10.txt', 'instancias/15.txt', 'instancias/4.txt', 'instancias/1.txt', 'instancias/13.txt', 'instancias/2.txt'], '1'], ['8', '4', ['instancias/9.txt', 'instancias/18.txt', 'instancias/10.txt', 'instancias/15.txt', 'instancias/4.txt', 'instancias/1.txt', 'instancias/13.txt', 'instancias/2.txt'], '1'], ['8', '5', ['instancias/9.txt', 'instancias/18.txt', 'instancias/10.txt', 'instancias/15.txt', 'instancias/4.txt', 'instancias/1.txt', 'instancias/13.txt', 'instancias/2.txt'], '1'], ['8', '6', ['instancias/9.txt', 'instancias/18.txt', 'instancias/10.txt', 'instancias/15.txt', 'instancias/4.txt', 'instancias/1.txt', 'instancias/13.txt', 'instancias/2.txt'], '1'], ['8', '7', ['instancias/9.txt', 'instancias/18.txt', 'instancias/10.txt', 'instancias/15.txt', 'instancias/4.txt', 'instancias/1.txt', 'instancias/13.txt', 'instancias/2.txt'], '1'], ['8', '8', ['instancias/9.txt', 'instancias/18.txt', 'instancias/10.txt', 'instancias/15.txt', 'instancias/4.txt', 'instancias/1.txt', 'instancias/13.txt', 'instancias/2.txt'], '1'], ['8', '9', ['instancias/9.txt', 'instancias/18.txt', 'instancias/10.txt', 'instancias/15.txt', 'instancias/4.txt', 'instancias/1.txt', 'instancias/13.txt', 'instancias/2.txt'], '1'], ['8', '10', ['instancias/9.txt', 'instancias/18.txt', 'instancias/10.txt', 'instancias/15.txt', 'instancias/4.txt', 'instancias/1.txt', 'instancias/13.txt', 'instancias/2.txt'], '1'], ['8', '11', ['instancias/9.txt', 'instancias/18.txt', 'instancias/10.txt', 'instancias/15.txt', 'instancias/4.txt', 'instancias/1.txt', 'instancias/13.txt', 'instancias/2.txt'], '1'], ['8', '12', ['instancias/9.txt', 'instancias/18.txt', 'instancias/10.txt', 'instancias/15.txt', 'instancias/4.txt', 'instancias/1.txt', 'instancias/13.txt', 'instancias/2.txt'], '1'], ['8', '13', ['instancias/9.txt', 'instancias/18.txt', 'instancias/10.txt', 'instancias/15.txt', 'instancias/4.txt', 'instancias/1.txt', 'instancias/13.txt', 'instancias/2.txt'], '1'], ['8', '14', ['instancias/9.txt', 'instancias/18.txt', 'instancias/10.txt', 'instancias/15.txt', 'instancias/4.txt', 'instancias/1.txt', 'instancias/13.txt', 'instancias/2.txt'], '1'], ['8', '15', ['instancias/9.txt', 'instancias/18.txt', 'instancias/10.txt', 'instancias/15.txt', 'instancias/4.txt', 'instancias/1.txt', 'instancias/13.txt', 'instancias/2.txt'], '1'], ['8', '16', ['instancias/9.txt', 'instancias/18.txt', 'instancias/10.txt', 'instancias/15.txt', 'instancias/4.txt', 'instancias/1.txt', 'instancias/13.txt', 'instancias/2.txt'], '1'], ['8', '17', ['instancias/9.txt', 'instancias/18.txt', 'instancias/10.txt', 'instancias/15.txt', 'instancias/4.txt', 'instancias/1.txt', 'instancias/13.txt', 'instancias/2.txt'], '1'], ['8', '18', ['instancias/9.txt', 'instancias/18.txt', 'instancias/10.txt', 'instancias/15.txt', 'instancias/4.txt', 'instancias/1.txt', 'instancias/13.txt', 'instancias/2.txt'], '1'], ['8', '19', ['instancias/9.txt', 'instancias/18.txt', 'instancias/10.txt', 'instancias/15.txt', 'instancias/4.txt', 'instancias/1.txt', 'instancias/13.txt', 'instancias/2.txt'], '1'], ['8', '20', ['instancias/9.txt', 'instancias/18.txt', 'instancias/10.txt', 'instancias/15.txt', 'instancias/4.txt', 'instancias/1.txt', 'instancias/13.txt', 'instancias/2.txt'], '1'], ['8', '21', ['instancias/9.txt', 'instancias/18.txt', 'instancias/10.txt', 'instancias/15.txt', 'instancias/4.txt', 'instancias/1.txt', 'instancias/13.txt', 'instancias/2.txt'], '1'], ['8', '22', ['instancias/9.txt', 'instancias/18.txt', 'instancias/10.txt', 'instancias/15.txt', 'instancias/4.txt', 'instancias/1.txt', 'instancias/13.txt', 'instancias/2.txt'], '1'], ['8', '23', ['instancias/9.txt', 'instancias/18.txt', 'instancias/10.txt', 'instancias/15.txt', 'instancias/4.txt', 'instancias/1.txt', 'instancias/13.txt', 'instancias/2.txt'], '1'], ['8', '24', ['instancias/9.txt', 'instancias/18.txt', 'instancias/10.txt', 'instancias/15.txt', 'instancias/4.txt', 'instancias/1.txt', 'instancias/13.txt', 'instancias/2.txt'], '1'], ['8', '25', ['instancias/9.txt', 'instancias/18.txt', 'instancias/10.txt', 'instancias/15.txt', 'instancias/4.txt', 'instancias/1.txt', 'instancias/13.txt', 'instancias/2.txt'], '1'], ['8', '26', ['instancias/9.txt', 'instancias/18.txt', 'instancias/10.txt', 'instancias/15.txt', 'instancias/4.txt', 'instancias/1.txt', 'instancias/13.txt', 'instancias/2.txt'], '1'], ['1', '1', ['instancias/18.txt', 'instancias/5.txt', 'instancias/17.txt', 'instancias/12.txt', 'instancias/8.txt', 'instancias/10.txt', 'instancias/9.txt', 'instancias/11.txt'], '2'], ['1', '2', ['instancias/18.txt', 'instancias/5.txt', 'instancias/17.txt', 'instancias/12.txt', 'instancias/8.txt', 'instancias/10.txt', 'instancias/9.txt', 'instancias/11.txt'], '2'], ['1', '3', ['instancias/18.txt', 'instancias/5.txt', 'instancias/17.txt', 'instancias/12.txt', 'instancias/8.txt', 'instancias/10.txt', 'instancias/9.txt', 'instancias/11.txt'], '2'], ['1', '4', ['instancias/18.txt', 'instancias/5.txt', 'instancias/17.txt', 'instancias/12.txt', 'instancias/8.txt', 'instancias/10.txt', 'instancias/9.txt', 'instancias/11.txt'], '2'], ['1', '5', ['instancias/18.txt', 'instancias/5.txt', 'instancias/17.txt', 'instancias/12.txt', 'instancias/8.txt', 'instancias/10.txt', 'instancias/9.txt', 'instancias/11.txt'], '2'], ['1', '6', ['instancias/18.txt', 'instancias/5.txt', 'instancias/17.txt', 'instancias/12.txt', 'instancias/8.txt', 'instancias/10.txt', 'instancias/9.txt', 'instancias/11.txt'], '2'], ['1', '7', ['instancias/18.txt', 'instancias/5.txt', 'instancias/17.txt', 'instancias/12.txt', 'instancias/8.txt', 'instancias/10.txt', 'instancias/9.txt', 'instancias/11.txt'], '2'], ['1', '8', ['instancias/18.txt', 'instancias/5.txt', 'instancias/17.txt', 'instancias/12.txt', 'instancias/8.txt', 'instancias/10.txt', 'instancias/9.txt', 'instancias/11.txt'], '2'], ['1', '9', ['instancias/18.txt', 'instancias/5.txt', 'instancias/17.txt', 'instancias/12.txt', 'instancias/8.txt', 'instancias/10.txt', 'instancias/9.txt', 'instancias/11.txt'], '2'], ['1', '10', ['instancias/18.txt', 'instancias/5.txt', 'instancias/17.txt', 'instancias/12.txt', 'instancias/8.txt', 'instancias/10.txt', 'instancias/9.txt', 'instancias/11.txt'], '2'], ['1', '11', ['instancias/18.txt', 'instancias/5.txt', 'instancias/17.txt', 'instancias/12.txt', 'instancias/8.txt', 'instancias/10.txt', 'instancias/9.txt', 'instancias/11.txt'], '2'], ['1', '12', ['instancias/18.txt', 'instancias/5.txt', 'instancias/17.txt', 'instancias/12.txt', 'instancias/8.txt', 'instancias/10.txt', 'instancias/9.txt', 'instancias/11.txt'], '2'], ['1', '13', ['instancias/18.txt', 'instancias/5.txt', 'instancias/17.txt', 'instancias/12.txt', 'instancias/8.txt', 'instancias/10.txt', 'instancias/9.txt', 'instancias/11.txt'], '2'], ['1', '14', ['instancias/18.txt', 'instancias/5.txt', 'instancias/17.txt', 'instancias/12.txt', 'instancias/8.txt', 'instancias/10.txt', 'instancias/9.txt', 'instancias/11.txt'], '2'], ['1', '15', ['instancias/18.txt', 'instancias/5.txt', 'instancias/17.txt', 'instancias/12.txt', 'instancias/8.txt', 'instancias/10.txt', 'instancias/9.txt', 'instancias/11.txt'], '2'], ['1', '16', ['instancias/18.txt', 'instancias/5.txt', 'instancias/17.txt', 'instancias/12.txt', 'instancias/8.txt', 'instancias/10.txt', 'instancias/9.txt', 'instancias/11.txt'], '2'], ['1', '17', ['instancias/18.txt', 'instancias/5.txt', 'instancias/17.txt', 'instancias/12.txt', 'instancias/8.txt', 'instancias/10.txt', 'instancias/9.txt', 'instancias/11.txt'], '2'], ['1', '18', ['instancias/18.txt', 'instancias/5.txt', 'instancias/17.txt', 'instancias/12.txt', 'instancias/8.txt', 'instancias/10.txt', 'instancias/9.txt', 'instancias/11.txt'], '2'], ['1', '19', ['instancias/18.txt', 'instancias/5.txt', 'instancias/17.txt', 'instancias/12.txt', 'instancias/8.txt', 'instancias/10.txt', 'instancias/9.txt', 'instancias/11.txt'], '2'], ['1', '20', ['instancias/18.txt', 'instancias/5.txt', 'instancias/17.txt', 'instancias/12.txt', 'instancias/8.txt', 'instancias/10.txt', 'instancias/9.txt', 'instancias/11.txt'], '2'], ['1', '21', ['instancias/18.txt', 'instancias/5.txt', 'instancias/17.txt', 'instancias/12.txt', 'instancias/8.txt', 'instancias/10.txt', 'instancias/9.txt', 'instancias/11.txt'], '2'], ['1', '22', ['instancias/18.txt', 'instancias/5.txt', 'instancias/17.txt', 'instancias/12.txt', 'instancias/8.txt', 'instancias/10.txt', 'instancias/9.txt', 'instancias/11.txt'], '2'], ['1', '23', ['instancias/18.txt', 'instancias/5.txt', 'instancias/17.txt', 'instancias/12.txt', 'instancias/8.txt', 'instancias/10.txt', 'instancias/9.txt', 'instancias/11.txt'], '2'], ['1', '24', ['instancias/18.txt', 'instancias/5.txt', 'instancias/17.txt', 'instancias/12.txt', 'instancias/8.txt', 'instancias/10.txt', 'instancias/9.txt', 'instancias/11.txt'], '2'], ['1', '25', ['instancias/18.txt', 'instancias/5.txt', 'instancias/17.txt', 'instancias/12.txt', 'instancias/8.txt', 'instancias/10.txt', 'instancias/9.txt', 'instancias/11.txt'], '2'], ['1', '26', ['instancias/18.txt', 'instancias/5.txt', 'instancias/17.txt', 'instancias/12.txt', 'instancias/8.txt', 'instancias/10.txt', 'instancias/9.txt', 'instancias/11.txt'], '2']]\n"
     ]
    }
   ],
   "source": [
    "cantArchivos = 8\n",
    "archivos = []\n",
    "for _ in range(cantArchivos):\n",
    "    archivos.append(f'instancias/{random.randint(1, 20)}.txt')\n",
    "\n",
    "for threadsMax in range(1, 27):\n",
    "    runs.append(['1', str(threadsMax), archivos, '2'])\n",
    "print(runs)    "
   ]
  },
  {
   "cell_type": "markdown",
   "metadata": {},
   "source": [
    "# experimento : threadsLectura"
   ]
  },
  {
   "cell_type": "code",
   "execution_count": 45,
   "metadata": {},
   "outputs": [],
   "source": [
    "cantArchivos = 20\n",
    "archivos = []\n",
    "for _ in range(cantArchivos):\n",
    "    archivos.append(f'instancias/{random.randint(1, 20)}.txt')\n",
    "\n",
    "for threadsLectura in range(1, cantArchivos + 1):\n",
    "    runs.append([str(threadsLectura), '1', archivos, '3'])"
   ]
  },
  {
   "cell_type": "markdown",
   "metadata": {},
   "source": [
    "# Experimento peor caso, distribucion normal"
   ]
  },
  {
   "cell_type": "code",
   "execution_count": 74,
   "metadata": {},
   "outputs": [],
   "source": [
    "archivos = []\n",
    "archivos.append('instancias/uniforme.txt')\n",
    "\n",
    "\n",
    "\n",
    "for i in range(4):\n",
    "    runs.append(['1',str(2**i),archivos,'5'])\n"
   ]
  },
  {
   "cell_type": "markdown",
   "metadata": {},
   "source": [
    "# Experimento peor caso, distribucion exponencial"
   ]
  },
  {
   "cell_type": "code",
   "execution_count": null,
   "metadata": {},
   "outputs": [],
   "source": []
  },
  {
   "cell_type": "code",
   "execution_count": null,
   "metadata": {},
   "outputs": [],
   "source": []
  },
  {
   "cell_type": "code",
   "execution_count": 75,
   "metadata": {},
   "outputs": [],
   "source": [
    "archivos = []\n",
    "archivos.append('instancias/exponencial.txt')\n",
    "\n",
    "\n",
    "\n",
    "for i in range(4):\n",
    "    runs.append(['1',str(2**i),archivos,'5'])\n",
    "\n",
    "    "
   ]
  },
  {
   "cell_type": "code",
   "execution_count": 68,
   "metadata": {},
   "outputs": [
    {
     "name": "stdout",
     "output_type": "stream",
     "text": [
      "[['1', '1', ['instancias/uniforme.txt'], '5'], ['1', '2', ['instancias/uniforme.txt'], '5'], ['1', '4', ['instancias/uniforme.txt'], '5'], ['1', '8', ['instancias/uniforme.txt'], '5'], ['1', '1', ['instancias/exponencial.txt'], '5'], ['1', '2', ['instancias/exponencial.txt'], '5'], ['1', '4', ['instancias/exponencial.txt'], '5'], ['1', '8', ['instancias/exponencial.txt'], '5']]\n"
     ]
    }
   ],
   "source": [
    "print(runs)"
   ]
  },
  {
   "cell_type": "markdown",
   "metadata": {},
   "source": [
    "# variando la cantidad de archivos por cantidad de threads:"
   ]
  },
  {
   "cell_type": "code",
   "execution_count": 9,
   "metadata": {},
   "outputs": [],
   "source": [
    "archivos = []\n",
    "for cantArchivos in range(1 , 13 + 1):\n",
    "    archivos.append(f'instancias/{random.randint(1, 20)}.txt')\n",
    "    for threadsLectura in range(1, cantArchivos + 1):\n",
    "        runs.append([str(threadsLectura), '1', archivos.copy(), '4'])"
   ]
  },
  {
   "cell_type": "code",
   "execution_count": 69,
   "metadata": {},
   "outputs": [
    {
     "name": "stdout",
     "output_type": "stream",
     "text": [
      "['1', '1', ['instancias/uniforme.txt'], '5']\n"
     ]
    },
    {
     "ename": "ValueError",
     "evalue": "not enough values to unpack (expected 3, got 1)",
     "output_type": "error",
     "traceback": [
      "\u001b[0;31m---------------------------------------------------------------------------\u001b[0m",
      "\u001b[0;31mValueError\u001b[0m                                Traceback (most recent call last)",
      "\u001b[0;32m<ipython-input-69-8a57014f0367>\u001b[0m in \u001b[0;36m<module>\u001b[0;34m()\u001b[0m\n\u001b[1;32m      1\u001b[0m \u001b[0mrun\u001b[0m \u001b[0;34m=\u001b[0m \u001b[0mruns\u001b[0m\u001b[0;34m[\u001b[0m\u001b[0;36m0\u001b[0m\u001b[0;34m]\u001b[0m\u001b[0;34m\u001b[0m\u001b[0;34m\u001b[0m\u001b[0m\n\u001b[1;32m      2\u001b[0m \u001b[0mprint\u001b[0m\u001b[0;34m(\u001b[0m\u001b[0mrun\u001b[0m\u001b[0;34m)\u001b[0m\u001b[0;34m\u001b[0m\u001b[0;34m\u001b[0m\u001b[0m\n\u001b[0;32m----> 3\u001b[0;31m \u001b[0mcorrer_experimento\u001b[0m\u001b[0;34m(\u001b[0m\u001b[0mrun\u001b[0m\u001b[0;34m[\u001b[0m\u001b[0;36m0\u001b[0m\u001b[0;34m]\u001b[0m\u001b[0;34m,\u001b[0m \u001b[0mrun\u001b[0m\u001b[0;34m[\u001b[0m\u001b[0;36m1\u001b[0m\u001b[0;34m]\u001b[0m\u001b[0;34m,\u001b[0m \u001b[0mrun\u001b[0m\u001b[0;34m[\u001b[0m\u001b[0;36m2\u001b[0m\u001b[0;34m]\u001b[0m\u001b[0;34m)\u001b[0m\u001b[0;34m\u001b[0m\u001b[0;34m\u001b[0m\u001b[0m\n\u001b[0m",
      "\u001b[0;32m<ipython-input-47-07c85bb840e3>\u001b[0m in \u001b[0;36mcorrer_experimento\u001b[0;34m(t_leer, t_max, files)\u001b[0m\n\u001b[1;32m      8\u001b[0m     \u001b[0mexit_code\u001b[0m \u001b[0;34m=\u001b[0m \u001b[0mprocess\u001b[0m\u001b[0;34m.\u001b[0m\u001b[0mwait\u001b[0m\u001b[0;34m(\u001b[0m\u001b[0;34m)\u001b[0m\u001b[0;34m\u001b[0m\u001b[0;34m\u001b[0m\u001b[0m\n\u001b[1;32m      9\u001b[0m \u001b[0;34m\u001b[0m\u001b[0m\n\u001b[0;32m---> 10\u001b[0;31m     \u001b[0mtime_l\u001b[0m\u001b[0;34m,\u001b[0m \u001b[0mtime_max\u001b[0m\u001b[0;34m,\u001b[0m \u001b[0m_\u001b[0m \u001b[0;34m=\u001b[0m \u001b[0mtuple\u001b[0m\u001b[0;34m(\u001b[0m\u001b[0mprocess\u001b[0m\u001b[0;34m.\u001b[0m\u001b[0mstderr\u001b[0m\u001b[0;34m.\u001b[0m\u001b[0mread\u001b[0m\u001b[0;34m(\u001b[0m\u001b[0;34m)\u001b[0m\u001b[0;34m.\u001b[0m\u001b[0msplit\u001b[0m\u001b[0;34m(\u001b[0m\u001b[0;34m\"\\n\"\u001b[0m\u001b[0;34m)\u001b[0m\u001b[0;34m)\u001b[0m\u001b[0;34m\u001b[0m\u001b[0;34m\u001b[0m\u001b[0m\n\u001b[0m\u001b[1;32m     11\u001b[0m \u001b[0;34m\u001b[0m\u001b[0m\n\u001b[1;32m     12\u001b[0m     \u001b[0mprocess\u001b[0m\u001b[0;34m.\u001b[0m\u001b[0mstdin\u001b[0m\u001b[0;34m.\u001b[0m\u001b[0mclose\u001b[0m\u001b[0;34m(\u001b[0m\u001b[0;34m)\u001b[0m\u001b[0;34m;\u001b[0m\u001b[0;34m\u001b[0m\u001b[0;34m\u001b[0m\u001b[0m\n",
      "\u001b[0;31mValueError\u001b[0m: not enough values to unpack (expected 3, got 1)"
     ]
    }
   ],
   "source": [
    "run = runs[0]\n",
    "print(run)\n",
    "correr_experimento(run[0], run[1], run[2])"
   ]
  },
  {
   "cell_type": "markdown",
   "metadata": {},
   "source": [
    "### Ejectuar los experimentos:"
   ]
  },
  {
   "cell_type": "code",
   "execution_count": 76,
   "metadata": {},
   "outputs": [
    {
     "data": {
      "text/plain": [
       "'Experimento: 1/8'"
      ]
     },
     "metadata": {},
     "output_type": "display_data"
    },
    {
     "ename": "ValueError",
     "evalue": "not enough values to unpack (expected 3, got 1)",
     "output_type": "error",
     "traceback": [
      "\u001b[0;31m---------------------------------------------------------------------------\u001b[0m",
      "\u001b[0;31mValueError\u001b[0m                                Traceback (most recent call last)",
      "\u001b[0;32m<ipython-input-76-396551cf1942>\u001b[0m in \u001b[0;36m<module>\u001b[0;34m()\u001b[0m\n\u001b[1;32m     15\u001b[0m     \u001b[0;31m#print(experimento[4], experimento[5])\u001b[0m\u001b[0;34m\u001b[0m\u001b[0;34m\u001b[0m\u001b[0;34m\u001b[0m\u001b[0m\n\u001b[1;32m     16\u001b[0m     \u001b[0;32mfor\u001b[0m \u001b[0m_\u001b[0m \u001b[0;32min\u001b[0m \u001b[0mrange\u001b[0m\u001b[0;34m(\u001b[0m\u001b[0;36m0\u001b[0m\u001b[0;34m,\u001b[0m \u001b[0mT\u001b[0m\u001b[0;34m)\u001b[0m\u001b[0;34m:\u001b[0m\u001b[0;34m\u001b[0m\u001b[0;34m\u001b[0m\u001b[0m\n\u001b[0;32m---> 17\u001b[0;31m         \u001b[0mtiempo\u001b[0m \u001b[0;34m=\u001b[0m \u001b[0mcorrer_experimento\u001b[0m\u001b[0;34m(\u001b[0m\u001b[0mrun\u001b[0m\u001b[0;34m[\u001b[0m\u001b[0;36m0\u001b[0m\u001b[0;34m]\u001b[0m\u001b[0;34m,\u001b[0m \u001b[0mrun\u001b[0m\u001b[0;34m[\u001b[0m\u001b[0;36m1\u001b[0m\u001b[0;34m]\u001b[0m\u001b[0;34m,\u001b[0m \u001b[0mrun\u001b[0m\u001b[0;34m[\u001b[0m\u001b[0;36m2\u001b[0m\u001b[0;34m]\u001b[0m\u001b[0;34m)\u001b[0m\u001b[0;34m\u001b[0m\u001b[0;34m\u001b[0m\u001b[0m\n\u001b[0m\u001b[1;32m     18\u001b[0m         \u001b[0mtiemposCargar\u001b[0m\u001b[0;34m.\u001b[0m\u001b[0mappend\u001b[0m\u001b[0;34m(\u001b[0m\u001b[0mtiempo\u001b[0m\u001b[0;34m[\u001b[0m\u001b[0;36m0\u001b[0m\u001b[0;34m]\u001b[0m\u001b[0;34m)\u001b[0m\u001b[0;34m\u001b[0m\u001b[0;34m\u001b[0m\u001b[0m\n\u001b[1;32m     19\u001b[0m         \u001b[0mtiemposMax\u001b[0m\u001b[0;34m.\u001b[0m\u001b[0mappend\u001b[0m\u001b[0;34m(\u001b[0m\u001b[0mtiempo\u001b[0m\u001b[0;34m[\u001b[0m\u001b[0;36m1\u001b[0m\u001b[0;34m]\u001b[0m\u001b[0;34m)\u001b[0m\u001b[0;34m\u001b[0m\u001b[0;34m\u001b[0m\u001b[0m\n",
      "\u001b[0;32m<ipython-input-47-07c85bb840e3>\u001b[0m in \u001b[0;36mcorrer_experimento\u001b[0;34m(t_leer, t_max, files)\u001b[0m\n\u001b[1;32m      8\u001b[0m     \u001b[0mexit_code\u001b[0m \u001b[0;34m=\u001b[0m \u001b[0mprocess\u001b[0m\u001b[0;34m.\u001b[0m\u001b[0mwait\u001b[0m\u001b[0;34m(\u001b[0m\u001b[0;34m)\u001b[0m\u001b[0;34m\u001b[0m\u001b[0;34m\u001b[0m\u001b[0m\n\u001b[1;32m      9\u001b[0m \u001b[0;34m\u001b[0m\u001b[0m\n\u001b[0;32m---> 10\u001b[0;31m     \u001b[0mtime_l\u001b[0m\u001b[0;34m,\u001b[0m \u001b[0mtime_max\u001b[0m\u001b[0;34m,\u001b[0m \u001b[0m_\u001b[0m \u001b[0;34m=\u001b[0m \u001b[0mtuple\u001b[0m\u001b[0;34m(\u001b[0m\u001b[0mprocess\u001b[0m\u001b[0;34m.\u001b[0m\u001b[0mstderr\u001b[0m\u001b[0;34m.\u001b[0m\u001b[0mread\u001b[0m\u001b[0;34m(\u001b[0m\u001b[0;34m)\u001b[0m\u001b[0;34m.\u001b[0m\u001b[0msplit\u001b[0m\u001b[0;34m(\u001b[0m\u001b[0;34m\"\\n\"\u001b[0m\u001b[0;34m)\u001b[0m\u001b[0;34m)\u001b[0m\u001b[0;34m\u001b[0m\u001b[0;34m\u001b[0m\u001b[0m\n\u001b[0m\u001b[1;32m     11\u001b[0m \u001b[0;34m\u001b[0m\u001b[0m\n\u001b[1;32m     12\u001b[0m     \u001b[0mprocess\u001b[0m\u001b[0;34m.\u001b[0m\u001b[0mstdin\u001b[0m\u001b[0;34m.\u001b[0m\u001b[0mclose\u001b[0m\u001b[0;34m(\u001b[0m\u001b[0;34m)\u001b[0m\u001b[0;34m;\u001b[0m\u001b[0;34m\u001b[0m\u001b[0;34m\u001b[0m\u001b[0m\n",
      "\u001b[0;31mValueError\u001b[0m: not enough values to unpack (expected 3, got 1)"
     ]
    }
   ],
   "source": [
    "# [cantThreads][cantFiles][cantThreadsMax][TIEMPO_MAX][TIEMPO_LEER]\n",
    "columnas = [\"threadsLectura\", \"threadsMaximo\", \"cantArchivos\", \"TIEMPO_MAX\", \"TIEMPO_CARGAR\", \"EXPERIMENTO\"];\n",
    "filas = [];\n",
    "numero = 1\n",
    "T = 50 #Numero de veces que se ejecuta cada experimento (para mayor fidelidad del tiempo).\n",
    "for run in runs:\n",
    "    # Voy mostrando que experimento se esta ejecutando.\n",
    "    clear_output(wait=True)\n",
    "    display('Experimento: ' + str(numero) + \"/\" + str(len(runs)))\n",
    "    numero += 1\n",
    "    # Ejecutamos el experimento T veces y obtenemos la mediana.\n",
    "    tiemposMax = []\n",
    "    tiemposCargar = []\n",
    "    tiempo = []\n",
    "    #print(experimento[4], experimento[5])\n",
    "    for _ in range(0, T):\n",
    "        tiempo = correr_experimento(run[0], run[1], run[2])\n",
    "        tiemposCargar.append(tiempo[0])\n",
    "        tiemposMax.append(tiempo[1])\n",
    "    tiempoCargar = np.median(tiemposCargar);\n",
    "    tiempoMax = np.median(tiemposMax);\n",
    "    filas.append([run[0], run[1], len(run[2]), tiempoMax, tiempoCargar, run[3]]);\n",
    "df_resultado = pd.DataFrame(filas, columns=columnas);\n",
    "df_resultado.to_csv(\"resultados/resultado.csv\", index=False, header=True);"
   ]
  },
  {
   "cell_type": "markdown",
   "metadata": {},
   "source": [
    "    "
   ]
  }
 ],
 "metadata": {
  "kernelspec": {
   "display_name": "Python 3",
   "language": "python",
   "name": "python3"
  },
  "language_info": {
   "codemirror_mode": {
    "name": "ipython",
    "version": 3
   },
   "file_extension": ".py",
   "mimetype": "text/x-python",
   "name": "python",
   "nbconvert_exporter": "python",
   "pygments_lexer": "ipython3",
   "version": "3.6.9"
  }
 },
 "nbformat": 4,
 "nbformat_minor": 4
}
