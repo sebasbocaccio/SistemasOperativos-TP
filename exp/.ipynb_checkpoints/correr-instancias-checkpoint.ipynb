{
 "cells": [
  {
   "cell_type": "markdown",
   "metadata": {},
   "source": [
    "# Imports"
   ]
  },
  {
   "cell_type": "code",
   "execution_count": null,
   "metadata": {},
   "outputs": [],
   "source": [
    "import math, subprocess\n",
    "import pandas as pd\n",
    "import numpy as np\n",
    "from IPython.display import display, clear_output\n",
    "import seaborn as sns\n",
    "import string, random"
   ]
  },
  {
   "cell_type": "markdown",
   "metadata": {},
   "source": [
    "# make"
   ]
  },
  {
   "cell_type": "code",
   "execution_count": null,
   "metadata": {},
   "outputs": [],
   "source": [
    "!cd .. && make clean && make all"
   ]
  },
  {
   "cell_type": "markdown",
   "metadata": {},
   "source": [
    "## Definitions"
   ]
  },
  {
   "cell_type": "code",
   "execution_count": null,
   "metadata": {},
   "outputs": [],
   "source": [
    "BIN = \"./../build/ContarPalabras\"\n",
    "TEST_FILE = \"../data/corpus\"\n",
    "runs = []"
   ]
  },
  {
   "cell_type": "code",
   "execution_count": null,
   "metadata": {},
   "outputs": [],
   "source": [
    "def correr_experimento(t_leer, t_max, files):\n",
    "    # Leer archivo de la instancia.\n",
    "    # Crear proceso para ejecutar el codigo.\n",
    "    process = subprocess.Popen([BIN] + [t_leer, t_max] + files, stderr=subprocess.PIPE, stdout=subprocess.PIPE, stdin=subprocess.PIPE, universal_newlines = True)\n",
    "\n",
    "    # Correr experimento.\n",
    "    exit_code = process.wait()\n",
    "\n",
    "    time_l, time_max, _ = tuple(process.stderr.read().split(\"\\n\"))\n",
    "    \n",
    "    process.stdin.close();\n",
    "    process.stdout.close();\n",
    "    process.stderr.close();\n",
    "    \n",
    "    return [float(time_l), float(time_max)]"
   ]
  },
  {
   "cell_type": "markdown",
   "metadata": {},
   "source": [
    "## txt generator: a agus le gusta que le digan"
   ]
  },
  {
   "cell_type": "code",
   "execution_count": null,
   "metadata": {},
   "outputs": [],
   "source": [
    "def txt(txtname, size):\n",
    "    file = open(f'instancias/{txtname}.txt', 'w+')\n",
    "    for _ in range(size):\n",
    "        word = ''.join(random.choice(string.ascii_lowercase) for _ in range(random.randint(3, 9)))\n",
    "        file.write(word + '\\n')\n",
    "    \n",
    "\n",
    "for x in range(20 + 1):\n",
    "    txt(x, 5000)"
   ]
  },
  {
   "cell_type": "markdown",
   "metadata": {},
   "source": [
    "## Todos los tipos"
   ]
  },
  {
   "cell_type": "code",
   "execution_count": null,
   "metadata": {},
   "outputs": [],
   "source": [
    "cantArchivos = 13\n",
    "archivos = []\n",
    "for _ in range(cantArchivos):\n",
    "    archivos.append(f'instancias/{random.randint(1, 20)}.txt')\n",
    "\n",
    "for threadsLectura in range(1, cantArchivos + 1):\n",
    "    for threadsMax in range(1, 26 + 1):\n",
    "        runs.append([str(threadsLectura), str(threadsMax), archivos, '1'])"
   ]
  },
  {
   "cell_type": "markdown",
   "metadata": {},
   "source": [
    "# experimento : threadsMaximo"
   ]
  },
  {
   "cell_type": "code",
   "execution_count": null,
   "metadata": {},
   "outputs": [],
   "source": [
    "cantArchivos = 13\n",
    "archivos = []\n",
    "for _ in range(cantArchivos):\n",
    "    archivos.append(f'instancias/{random.randint(1, 20)}.txt')\n",
    "\n",
    "for threadsMax in range(1, 27):\n",
    "    runs.append(['1', str(threadsMax), archivos, '2'])"
   ]
  },
  {
   "cell_type": "markdown",
   "metadata": {},
   "source": [
    "# experimento : threadsLectura"
   ]
  },
  {
   "cell_type": "code",
   "execution_count": null,
   "metadata": {},
   "outputs": [],
   "source": [
    "cantArchivos = 40\n",
    "archivos = []\n",
    "for _ in range(cantArchivos):\n",
    "    archivos.append(f'instancias/{random.randint(1, 20)}.txt')\n",
    "\n",
    "for threadsLectura in range(1, cantArchivos + 1):\n",
    "    runs.append([str(threadsLectura), '1', archivos, '3'])"
   ]
  },
  {
   "cell_type": "markdown",
   "metadata": {},
   "source": [
    "# variando la cantidad de archivos por cantidad de threads:"
   ]
  },
  {
   "cell_type": "code",
   "execution_count": null,
   "metadata": {},
   "outputs": [],
   "source": [
    "archivos = []\n",
    "for cantArchivos in range(1 , 13 + 1):\n",
    "    archivos.append(f'instancias/{random.randint(1, 20)}.txt')\n",
    "    for threadsLectura in range(1, cantArchivos + 1):\n",
    "        runs.append([str(threadsLectura), '1', archivos.copy(), '4'])"
   ]
  },
  {
   "cell_type": "code",
   "execution_count": null,
   "metadata": {},
   "outputs": [],
   "source": []
  },
  {
   "cell_type": "markdown",
   "metadata": {},
   "source": [
    "### Ejectuar los experimentos:"
   ]
  },
  {
   "cell_type": "code",
   "execution_count": null,
   "metadata": {},
   "outputs": [],
   "source": [
    "# [cantThreads][cantFiles][cantThreadsMax][TIEMPO_MAX][TIEMPO_LEER]\n",
    "columnas = [\"threadsLectura\", \"threadsMaximo\", \"cantArchivos\", \"TIEMPO_MAX\", \"TIEMPO_CARGAR\", \"EXPERIMENTO\"];\n",
    "filas = [];\n",
    "numero = 1\n",
    "T = 50 #Numero de veces que se ejecuta cada experimento (para mayor fidelidad del tiempo).\n",
    "for run in runs:\n",
    "    # Voy mostrando que experimento se esta ejecutando.\n",
    "    clear_output(wait=True)\n",
    "    display('Experimento: ' + str(numero) + \"/\" + str(len(runs)))\n",
    "    numero += 1\n",
    "    # Ejecutamos el experimento T veces y obtenemos la mediana.\n",
    "    tiemposMax = []\n",
    "    tiemposCargar = []\n",
    "    tiempo = []\n",
    "    #print(experimento[4], experimento[5])\n",
    "    for _ in range(0, T):\n",
    "        tiempo = correr_experimento(run[0], run[1], run[2])\n",
    "        tiemposCargar.append(tiempo[0])\n",
    "        tiemposMax.append(tiempo[1])\n",
    "    tiempoCargar = np.median(tiemposCargar);\n",
    "    tiempoMax = np.median(tiemposMax);\n",
    "    filas.append([run[0], run[1], len(run[2]), tiempoMax, tiempoCargar]);\n",
    "df_resultado = pd.DataFrame(filas, columns=columnas);\n",
    "df_resultado.to_csv(\"resultados/resultado.csv\", index=False, header=True);"
   ]
  },
  {
   "cell_type": "markdown",
   "metadata": {},
   "source": [
    "    "
   ]
  }
 ],
 "metadata": {
  "kernelspec": {
   "display_name": "Python 3",
   "language": "python",
   "name": "python3"
  },
  "language_info": {
   "codemirror_mode": {
    "name": "ipython",
    "version": 3
   },
   "file_extension": ".py",
   "mimetype": "text/x-python",
   "name": "python",
   "nbconvert_exporter": "python",
   "pygments_lexer": "ipython3",
   "version": "3.8.5"
  }
 },
 "nbformat": 4,
 "nbformat_minor": 4
}
