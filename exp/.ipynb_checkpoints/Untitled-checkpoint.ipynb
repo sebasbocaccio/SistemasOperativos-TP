{
 "cells": [
  {
   "cell_type": "code",
   "execution_count": 1,
   "metadata": {},
   "outputs": [],
   "source": [
    "import numpy as np\n",
    "import pandas as pd\n",
    "import seaborn as sns\n",
    "import matplotlib.pyplot as plt"
   ]
  },
  {
   "cell_type": "code",
   "execution_count": 9,
   "metadata": {},
   "outputs": [
    {
     "data": {
      "text/html": [
       "<div>\n",
       "<style scoped>\n",
       "    .dataframe tbody tr th:only-of-type {\n",
       "        vertical-align: middle;\n",
       "    }\n",
       "\n",
       "    .dataframe tbody tr th {\n",
       "        vertical-align: top;\n",
       "    }\n",
       "\n",
       "    .dataframe thead th {\n",
       "        text-align: right;\n",
       "    }\n",
       "</style>\n",
       "<table border=\"1\" class=\"dataframe\">\n",
       "  <thead>\n",
       "    <tr style=\"text-align: right;\">\n",
       "      <th></th>\n",
       "      <th>threadsLectura</th>\n",
       "      <th>threadsMaximo</th>\n",
       "      <th>cantArchivos</th>\n",
       "      <th>TIEMPO_MAX</th>\n",
       "      <th>TIEMPO_CARGAR</th>\n",
       "      <th>EXPERIMENTO</th>\n",
       "    </tr>\n",
       "  </thead>\n",
       "  <tbody>\n",
       "    <tr>\n",
       "      <th>254</th>\n",
       "      <td>1</td>\n",
       "      <td>1</td>\n",
       "      <td>1</td>\n",
       "      <td>0.261156</td>\n",
       "      <td>38.56690</td>\n",
       "      <td>4</td>\n",
       "    </tr>\n",
       "    <tr>\n",
       "      <th>256</th>\n",
       "      <td>2</td>\n",
       "      <td>1</td>\n",
       "      <td>2</td>\n",
       "      <td>0.327601</td>\n",
       "      <td>54.69245</td>\n",
       "      <td>4</td>\n",
       "    </tr>\n",
       "    <tr>\n",
       "      <th>259</th>\n",
       "      <td>3</td>\n",
       "      <td>1</td>\n",
       "      <td>3</td>\n",
       "      <td>0.433752</td>\n",
       "      <td>72.82500</td>\n",
       "      <td>4</td>\n",
       "    </tr>\n",
       "    <tr>\n",
       "      <th>263</th>\n",
       "      <td>4</td>\n",
       "      <td>1</td>\n",
       "      <td>4</td>\n",
       "      <td>0.574210</td>\n",
       "      <td>79.59700</td>\n",
       "      <td>4</td>\n",
       "    </tr>\n",
       "    <tr>\n",
       "      <th>268</th>\n",
       "      <td>5</td>\n",
       "      <td>1</td>\n",
       "      <td>5</td>\n",
       "      <td>0.689866</td>\n",
       "      <td>101.85050</td>\n",
       "      <td>4</td>\n",
       "    </tr>\n",
       "  </tbody>\n",
       "</table>\n",
       "</div>"
      ],
      "text/plain": [
       "     threadsLectura  threadsMaximo  cantArchivos  TIEMPO_MAX  TIEMPO_CARGAR  \\\n",
       "254               1              1             1    0.261156       38.56690   \n",
       "256               2              1             2    0.327601       54.69245   \n",
       "259               3              1             3    0.433752       72.82500   \n",
       "263               4              1             4    0.574210       79.59700   \n",
       "268               5              1             5    0.689866      101.85050   \n",
       "\n",
       "     EXPERIMENTO  \n",
       "254            4  \n",
       "256            4  \n",
       "259            4  \n",
       "263            4  \n",
       "268            4  "
      ]
     },
     "execution_count": 9,
     "metadata": {},
     "output_type": "execute_result"
    }
   ],
   "source": [
    "df = pd.read_csv(\"resultados/resultado.csv\");\n",
    "df = df[df['cantArchivos'] == df['threadsLectura']]\n",
    "df = df[df['EXPERIMENTO'] == 4]\n",
    "df.head()"
   ]
  },
  {
   "cell_type": "code",
   "execution_count": 33,
   "metadata": {},
   "outputs": [
    {
     "data": {
      "text/html": [
       "<div>\n",
       "<style scoped>\n",
       "    .dataframe tbody tr th:only-of-type {\n",
       "        vertical-align: middle;\n",
       "    }\n",
       "\n",
       "    .dataframe tbody tr th {\n",
       "        vertical-align: top;\n",
       "    }\n",
       "\n",
       "    .dataframe thead th {\n",
       "        text-align: right;\n",
       "    }\n",
       "</style>\n",
       "<table border=\"1\" class=\"dataframe\">\n",
       "  <thead>\n",
       "    <tr style=\"text-align: right;\">\n",
       "      <th></th>\n",
       "      <th>threadsLectura</th>\n",
       "      <th>threadsMaximo</th>\n",
       "      <th>cantArchivos</th>\n",
       "      <th>TIEMPO_MAX</th>\n",
       "      <th>TIEMPO_CARGAR</th>\n",
       "      <th>EXPERIMENTO</th>\n",
       "      <th>l</th>\n",
       "    </tr>\n",
       "  </thead>\n",
       "  <tbody>\n",
       "    <tr>\n",
       "      <th>254</th>\n",
       "      <td>1</td>\n",
       "      <td>1</td>\n",
       "      <td>1</td>\n",
       "      <td>0.261156</td>\n",
       "      <td>38.56690</td>\n",
       "      <td>4</td>\n",
       "      <td>[1, 1]</td>\n",
       "    </tr>\n",
       "    <tr>\n",
       "      <th>256</th>\n",
       "      <td>2</td>\n",
       "      <td>1</td>\n",
       "      <td>2</td>\n",
       "      <td>0.327601</td>\n",
       "      <td>54.69245</td>\n",
       "      <td>4</td>\n",
       "      <td>[2, 2]</td>\n",
       "    </tr>\n",
       "    <tr>\n",
       "      <th>259</th>\n",
       "      <td>3</td>\n",
       "      <td>1</td>\n",
       "      <td>3</td>\n",
       "      <td>0.433752</td>\n",
       "      <td>72.82500</td>\n",
       "      <td>4</td>\n",
       "      <td>[3, 3]</td>\n",
       "    </tr>\n",
       "    <tr>\n",
       "      <th>263</th>\n",
       "      <td>4</td>\n",
       "      <td>1</td>\n",
       "      <td>4</td>\n",
       "      <td>0.574210</td>\n",
       "      <td>79.59700</td>\n",
       "      <td>4</td>\n",
       "      <td>[4, 4]</td>\n",
       "    </tr>\n",
       "    <tr>\n",
       "      <th>268</th>\n",
       "      <td>5</td>\n",
       "      <td>1</td>\n",
       "      <td>5</td>\n",
       "      <td>0.689866</td>\n",
       "      <td>101.85050</td>\n",
       "      <td>4</td>\n",
       "      <td>[5, 5]</td>\n",
       "    </tr>\n",
       "  </tbody>\n",
       "</table>\n",
       "</div>"
      ],
      "text/plain": [
       "     threadsLectura  threadsMaximo  cantArchivos  TIEMPO_MAX  TIEMPO_CARGAR  \\\n",
       "254               1              1             1    0.261156       38.56690   \n",
       "256               2              1             2    0.327601       54.69245   \n",
       "259               3              1             3    0.433752       72.82500   \n",
       "263               4              1             4    0.574210       79.59700   \n",
       "268               5              1             5    0.689866      101.85050   \n",
       "\n",
       "     EXPERIMENTO       l  \n",
       "254            4  [1, 1]  \n",
       "256            4  [2, 2]  \n",
       "259            4  [3, 3]  \n",
       "263            4  [4, 4]  \n",
       "268            4  [5, 5]  "
      ]
     },
     "execution_count": 33,
     "metadata": {},
     "output_type": "execute_result"
    }
   ],
   "source": [
    "df[\"l\"] = '[' + df['cantArchivos'].map(str) + ', ' + df['threadsLectura'].map(str) + ']'\n",
    "df.head()"
   ]
  },
  {
   "cell_type": "code",
   "execution_count": 37,
   "metadata": {},
   "outputs": [
    {
     "data": {
      "text/plain": [
       "<matplotlib.axes._subplots.AxesSubplot at 0x7f55a44216d0>"
      ]
     },
     "execution_count": 37,
     "metadata": {},
     "output_type": "execute_result"
    },
    {
     "data": {
      "image/png": "[encoded data removed]",
      "text/plain": [
       "<Figure size 720x576 with 1 Axes>"
      ]
     },
     "metadata": {},
     "output_type": "display_data"
    }
   ],
   "source": [
    "sns.set_style(\"whitegrid\")\n",
    "\n",
    "fig, ax = plt.subplots(figsize=(10,8))\n",
    "sns.barplot(ax=ax, data=df,x='l', y='TIEMPO_CARGAR')\n",
    "#ax.set_title(\"Distribución de las primeras letras de las palabras utilizadas\")\n",
    "#fig = ax.get_figure()\n",
    "\n",
    "#fig.savefig(\"img/dist_fl\")"
   ]
  },
  {
   "cell_type": "code",
   "execution_count": 40,
   "metadata": {},
   "outputs": [
    {
     "data": {
      "text/plain": [
       "Text(0.5, 0, 'Tiempo en cargar lso archivos (ms)')"
      ]
     },
     "execution_count": 40,
     "metadata": {},
     "output_type": "execute_result"
    },
    {
     "data": {
      "image/png": "[encoded data removed]",
      "text/plain": [
       "<Figure size 432x288 with 1 Axes>"
      ]
     },
     "metadata": {},
     "output_type": "display_data"
    }
   ],
   "source": [
    "ax = sns.boxplot(df['TIEMPO_CARGAR'])\n",
    "ax.set_xlabel('Tiempo en cargar los archivos (ms)')"
   ]
  },
  {
   "cell_type": "code",
   "execution_count": null,
   "metadata": {},
   "outputs": [],
   "source": []
  }
 ],
 "metadata": {
  "kernelspec": {
   "display_name": "Python 3.8.2 64-bit ('metnum': venv)",
   "language": "python",
   "name": "python38264bitmetnumvenvc44a19ffde4845f8ad72094b1e6e18a8"
  },
  "language_info": {
   "codemirror_mode": {
    "name": "ipython",
    "version": 3
   },
   "file_extension": ".py",
   "mimetype": "text/x-python",
   "name": "python",
   "nbconvert_exporter": "python",
   "pygments_lexer": "ipython3",
   "version": "3.8.6"
  }
 },
 "nbformat": 4,
 "nbformat_minor": 4
}
