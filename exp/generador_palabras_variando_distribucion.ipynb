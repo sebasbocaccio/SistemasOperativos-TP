{
 "cells": [
  {
   "cell_type": "code",
   "execution_count": null,
   "metadata": {},
   "outputs": [],
   "source": [
    "import pandas as pd\n",
    "import seaborn as sns\n",
    "import matplotlib.pyplot as plt"
   ]
  },
  {
   "cell_type": "code",
   "execution_count": null,
   "metadata": {},
   "outputs": [],
   "source": [
    "def gen_words_s(filename, char, n):\n",
    "    file = open(f'instancias/{filename}.txt', 'a')\n",
    "    for _ in range(n):\n",
    "        word = ''.join(random.choice(string.ascii_lowercase) for _ in range(random.randint(3, 9)))\n",
    "        word = char + word\n",
    "        file.write(word + '\\n')\n",
    "    file.close()"
   ]
  }
 ],
 "metadata": {
  "kernelspec": {
   "display_name": "Python 3.8.2 64-bit ('metnum': venv)",
   "language": "python",
   "name": "python38264bitmetnumvenvc44a19ffde4845f8ad72094b1e6e18a8"
  },
  "language_info": {
   "codemirror_mode": {
    "name": "ipython",
    "version": 3
   },
   "file_extension": ".py",
   "mimetype": "text/x-python",
   "name": "python",
   "nbconvert_exporter": "python",
   "pygments_lexer": "ipython3",
   "version": "3.8.6"
  }
 },
 "nbformat": 4,
 "nbformat_minor": 4
}
