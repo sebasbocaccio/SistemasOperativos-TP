{
 "cells": [
  {
   "cell_type": "code",
   "execution_count": 11,
   "metadata": {},
   "outputs": [],
   "source": [
    "import pandas as pd\n",
    "import seaborn as sns\n",
    "import matplotlib.pyplot as plt\n",
    "import random \n",
    "import string"
   ]
  },
  {
   "cell_type": "code",
   "execution_count": 21,
   "metadata": {},
   "outputs": [],
   "source": [
    "cant_palabras = 5016"
   ]
  },
  {
   "cell_type": "code",
   "execution_count": 72,
   "metadata": {},
   "outputs": [],
   "source": [
    "def gen_words_s(filename, char, n):\n",
    "    file = open(f'instancias/{filename}.txt', 'a')\n",
    "    for _ in range(n):\n",
    "        word = ''.join(random.choice(string.ascii_lowercase) for _ in range(random.randint(3, 9)))\n",
    "        word = char + word\n",
    "        file.write(word + '\\n')\n",
    "    file.close()"
   ]
  },
  {
   "cell_type": "markdown",
   "metadata": {},
   "source": [
    "# Distrubucion uniforme\n",
    "\n"
   ]
  },
  {
   "cell_type": "code",
   "execution_count": 77,
   "metadata": {},
   "outputs": [
    {
     "name": "stdout",
     "output_type": "stream",
     "text": [
      "1\n",
      "1\n",
      "1\n",
      "2\n",
      "3\n",
      "4\n",
      "5\n",
      "7\n",
      "9\n",
      "13\n",
      "17\n",
      "23\n",
      "30\n",
      "40\n",
      "54\n",
      "72\n",
      "95\n",
      "127\n",
      "169\n",
      "225\n",
      "299\n",
      "398\n",
      "530\n",
      "705\n",
      "938\n",
      "1248\n",
      "5016\n"
     ]
    }
   ],
   "source": [
    "x= 1.330\n",
    "char = 'a'\n",
    "suma = 0\n",
    "for i in range(0,26):\n",
    "    suma = suma + int(x**i)\n",
    "    print(int(x**i))\n",
    "print(suma)    "
   ]
  },
  {
   "cell_type": "markdown",
   "metadata": {},
   "source": [
    "# Distribicion exponencial\n"
   ]
  },
  {
   "cell_type": "code",
   "execution_count": 74,
   "metadata": {},
   "outputs": [
    {
     "name": "stdout",
     "output_type": "stream",
     "text": [
      "5016\n"
     ]
    }
   ],
   "source": [
    "sumaExpo = 0\n",
    "for i in range(0,26):\n",
    "    gen_words_s(\"exponencial\",char, int(x**i))\n",
    "    char = chr(ord(char) + 1)\n",
    "    sumaExpo += int(x**i)\n",
    "print(sumaExpo)  "
   ]
  },
  {
   "cell_type": "code",
   "execution_count": 76,
   "metadata": {},
   "outputs": [
    {
     "name": "stdout",
     "output_type": "stream",
     "text": [
      "5016.000000000003\n"
     ]
    }
   ],
   "source": [
    "sumaUni = 0\n",
    "for i in range(0,26):\n",
    "    gen_words_s(\"uniforme\",char, int(cant_palabras/26) )\n",
    "    char = chr(ord(char) + 1)\n",
    "    sumaUni += cant_palabras/26\n",
    "print(sumaUni)    "
   ]
  },
  {
   "cell_type": "markdown",
   "metadata": {},
   "source": [
    "# Distribucion Semi-normal\n"
   ]
  },
  {
   "cell_type": "code",
   "execution_count": 78,
   "metadata": {},
   "outputs": [
    {
     "name": "stdout",
     "output_type": "stream",
     "text": [
      "5015\n"
     ]
    }
   ],
   "source": [
    "sumaSemi =0 \n",
    "for i in range(1,14):\n",
    "    gen_words_s(\"semi-normal\",char, int(i*25.78))\n",
    "    char = chr(ord(char) + 1)   \n",
    "    sumaSemi += int(i*25.78) \n",
    "for i in range(14,1,-1):        \n",
    "    gen_words_s(\"semi-normal\",char,int(i*25.78) )\n",
    "    char = chr(ord(char) + 1)\n",
    "    sumaSemi += int(i*25.78)\n",
    "print(sumaSemi)    \n",
    "    "
   ]
  },
  {
   "cell_type": "code",
   "execution_count": null,
   "metadata": {},
   "outputs": [],
   "source": []
  }
 ],
 "metadata": {
  "kernelspec": {
   "display_name": "Python 3",
   "language": "python",
   "name": "python3"
  },
  "language_info": {
   "codemirror_mode": {
    "name": "ipython",
    "version": 3
   },
   "file_extension": ".py",
   "mimetype": "text/x-python",
   "name": "python",
   "nbconvert_exporter": "python",
   "pygments_lexer": "ipython3",
   "version": "3.6.9"
  }
 },
 "nbformat": 4,
 "nbformat_minor": 4
}
