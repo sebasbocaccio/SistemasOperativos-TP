{
 "cells": [
  {
   "cell_type": "code",
   "execution_count": null,
   "metadata": {},
   "outputs": [],
   "source": [
    "import numpy as np\n",
    "import pandas as pd\n",
    "import seaborn as sns\n",
    "import matplotlib.pyplot as plt"
   ]
  },
  {
   "cell_type": "markdown",
   "metadata": {},
   "source": [
    "Leemos el dataset de los resultados"
   ]
  },
  {
   "cell_type": "code",
   "execution_count": null,
   "metadata": {},
   "outputs": [],
   "source": [
    "resultados = pd.read_csv(\"resultados/resultado.csv\");\n",
    "resultados.head()"
   ]
  },
  {
   "cell_type": "code",
   "execution_count": null,
   "metadata": {},
   "outputs": [],
   "source": [
    "sns.heatmap(resultados[resultados['EXPERIMENTO'] == 1])"
   ]
  },
  {
   "cell_type": "code",
   "execution_count": null,
   "metadata": {},
   "outputs": [],
   "source": [
    "# densidad media\n",
    "maximos = resultados[(resultados[\"cantArchivos\"]==  49) & (resultados[\"threadsLectura\"]== 30)].copy();\n",
    "#print(maximos)\n",
    "fig = sns.scatterplot(data=maximos, x='threadsMaximo', y='TIEMPO_MAX', color=\"b\", label=\"maximo\");\n",
    "fig.set_title('experimento 1')\n",
    "fig.set(xlabel='#Threads para buscar el maximo', ylabel='tiempo (ms)');\n",
    "plt.savefig(\"MaximoParalelo\");"
   ]
  },
  {
   "cell_type": "code",
   "execution_count": null,
   "metadata": {},
   "outputs": [],
   "source": []
  },
  {
   "cell_type": "code",
   "execution_count": null,
   "metadata": {},
   "outputs": [],
   "source": [
    "# densidad media\n",
    "maximos = resultados[(resultados[\"cantArchivos\"] ==  10) & (resultados[\"threadsMaximo\"]== 1)].copy();\n",
    "#print(maximos)\n",
    "fig = sns.scatterplot(data=maximos, x='threadsLectura', y='TIEMPO_CARGAR', color=\"b\", label=\"cargar archivos\");\n",
    "fig.set_title('experimeto 2')\n",
    "fig.set(xlabel='#Threads para cargar archivos', ylabel='tiempo (ms)');\n",
    "plt.savefig(\"MaximoParalelo\");"
   ]
  },
  {
   "cell_type": "markdown",
   "metadata": {},
   "source": [
    "### HEATMAP"
   ]
  },
  {
   "cell_type": "code",
   "execution_count": null,
   "metadata": {},
   "outputs": [],
   "source": [
    "# Graficamos los tie& (bt_resultados[\"dataset\"]==\"densidad-media-optimalidad\")mpos de ejecución de cada dataset en función de n.\n",
    "# complejidad_DP = resultados[(bt_resultados[\"metodo\"]==\"DP\") & (bt_resultados[\"dataset\"]==\"programacion-dinamica\")].copy();\n",
    "\n",
    "#fig, ax = plt.subplots(figsize = (6, 4))\n",
    "heatmap1_data = pd.pivot_table(resultados[resultados['EXPERIMENTO'] == 1], values='TIEMPO_MAX', index=['threadsLectura'], columns='threadsMaximo')\n",
    "heatmap1_data.sort_index(axis=0, ascending=False, inplace=True)\n",
    "foto = sns.heatmap(heatmap1_data, cmap=\"YlGnBu\", cbar_kws={'label': 'Tiempo en encontrar el máximo (ms)'})\n",
    "foto.set_title('Tiempo de ejecución de \\'maximoParalelo\\'\\n variando la cantidad de threads')\n",
    "\n",
    "foto = foto.get_figure()\n",
    "foto.savefig(\"hm_tm_tl_tmax\")"
   ]
  },
  {
   "cell_type": "code",
   "execution_count": null,
   "metadata": {},
   "outputs": [],
   "source": [
    "heatmap1_data = pd.pivot_table(resultados[resultados['EXPERIMENTO'] == 1], values='TIEMPO_CARGAR', index=['threadsMaximo'], columns='threadsLectura')\n",
    "heatmap1_data.sort_index(axis=0, ascending=False, inplace=True)\n",
    "foto = sns.heatmap(heatmap1_data, cmap=sns.cm.rocket_r, cbar_kws={'label': 'Tiempo en cargar los archivos(ms)'})\n",
    "foto.set_title('Tiempo de ejecución de \\'cargarMultiplesArchivos\\'\\nvariando la cantidad de threads')\n",
    "#foto.set(ylabel='Tiempo en encontrar el máximo (ms)', xlabel='threads')\n",
    "\n",
    "foto = foto.get_figure()\n",
    "foto.savefig(\"hm_tm_tl_tload_1\")"
   ]
  },
  {
   "cell_type": "code",
   "execution_count": null,
   "metadata": {},
   "outputs": [],
   "source": [
    "sns.set_style(\"whitegrid\")\n",
    "df_tmax = resultados[resultados['EXPERIMENTO'] == 2]\n",
    "df_tmax = df_tmax[[\"threadsMaximo\",\"TIEMPO_MAX\"]]\n",
    "ax = sns.scatterplot(data=df_tmax, x=\"threadsMaximo\", y=\"TIEMPO_MAX\")\n",
    "ax.set_title('Tiempo de ejecución de \\'maximoParalelo\\'\\nvariando la cantidad de threads')\n",
    "ax.set(ylabel='Tiempo en encontrar el máximo (ms)', xlabel='threads')\n",
    "\n",
    "fig = ax.get_figure()\n",
    "fig.savefig(\"sp_tm_tmax\")"
   ]
  },
  {
   "cell_type": "code",
   "execution_count": null,
   "metadata": {},
   "outputs": [],
   "source": [
    "sns.set_style(\"whitegrid\")\n",
    "df_tmax = resultados[resultados['EXPERIMENTO'] == 3]\n",
    "df_tmax = df_tmax[[\"threadsLectura\",\"TIEMPO_CARGAR\"]]\n",
    "ax = sns.scatterplot(data=df_tmax, x=\"threadsLectura\", y=\"TIEMPO_CARGAR\")\n",
    "ax.set_title('Tiempo de ejecución de \\'cargarMultiplesArchivos\\'\\nvariando la cantidad de threads')\n",
    "ax.set(ylabel='Tiempo en cargar los archivos (ms)', xlabel='threads')\n",
    "\n",
    "fig = ax.get_figure()\n",
    "fig.savefig(\"sp_tl_tload\")"
   ]
  },
  {
   "cell_type": "code",
   "execution_count": null,
   "metadata": {},
   "outputs": [],
   "source": [
    "df_load = resultados[resultados['EXPERIMENTO'] == 4]\n",
    "df_load = df_load[[\"cantArchivos\",\"threadsLectura\",\"TIEMPO_CARGAR\"]]\n",
    "df_load.head()"
   ]
  },
  {
   "cell_type": "code",
   "execution_count": null,
   "metadata": {},
   "outputs": [],
   "source": [
    "hm_data = pd.pivot_table(df_load, values='TIEMPO_CARGAR', index=['threadsLectura'], columns='cantArchivos')\n",
    "hm_data.sort_index(axis=0, ascending=False, inplace=True)\n",
    "ax = sns.heatmap(hm_data, cmap='YlGnBu', cbar_kws={'label': 'Tiempo en cargar los archivos (ms)'})\n",
    "ax.set_ylabel('threads')\n",
    "ax.set_xlabel('cant_archivos')\n",
    "\n",
    "ax.set_title('Tiempo de ejecución de \\'cargarMultiplesArchivos\\'\\n variando la cantidad de threads y la cantidad de archivos')\n",
    "#foto.set(ylabel='Tiempo en encontrar el máximo (ms)', xlabel='threads')\n",
    "\n",
    "fig = ax.get_figure()\n",
    "fig.savefig(\"hm_nf_tl_tload\")"
   ]
  },
  {
   "cell_type": "markdown",
   "metadata": {},
   "source": [
    "# Graficos finales"
   ]
  },
  {
   "cell_type": "code",
   "execution_count": null,
   "metadata": {},
   "outputs": [],
   "source": [
    "resultado = pd.read_csv(\"resultados/resultadoDistribuciones.csv\");\n",
    "# resultadoUNIFORME = pd.read_csv(\"resultados/resultadoUNIFORME.csv\");\n",
    "# resultadoEXPONENCIAL = pd.read_csv(\"resultados/resultadoEXPO.csv\");\n"
   ]
  },
  {
   "cell_type": "code",
   "execution_count": null,
   "metadata": {},
   "outputs": [],
   "source": [
    "uniforme = resultado[(resultado[\"EXPERIMENTO\"]== 7)].copy();\n",
    "normal = resultado[(resultado[\"EXPERIMENTO\"]== 8)].copy();\n",
    "exponencial = resultado[(resultado[\"EXPERIMENTO\"]== 9)].copy();\n",
    "\n",
    "\n",
    "plt.scatter(normal['threadsMaximo'],normal['TIEMPO_MAX'], c='lightblue')\n",
    "plt.scatter(uniforme['threadsMaximo'],uniforme['TIEMPO_MAX'], c='blue')\n",
    "plt.scatter(exponencial['threadsMaximo'],exponencial['TIEMPO_MAX'], c='coral')\n",
    "classes = ['Normal', 'Uniforme', 'Exponencial']\n",
    "#x = [5,6,7,8]\n",
    "#y = [1,3,5,2]\n",
    "\n",
    "#plt.scatter(x, y, c='lightblue')\n",
    "plt.legend(labels=classes)\n",
    "plt.title('Tiempo de ejecucion fijando cantidad de palabras')\n",
    "plt.xlabel('Cantidad threads')\n",
    "plt.ylabel('Tiempo')\n",
    "plt.savefig('resultado_comparacion_distribuciones.png')\n",
    "plt.show()"
   ]
  },
  {
   "cell_type": "code",
   "execution_count": null,
   "metadata": {},
   "outputs": [],
   "source": []
  }
 ],
 "metadata": {
  "kernelspec": {
   "display_name": "Python 3",
   "language": "python",
   "name": "python3"
  },
  "language_info": {
   "codemirror_mode": {
    "name": "ipython",
    "version": 3
   },
   "file_extension": ".py",
   "mimetype": "text/x-python",
   "name": "python",
   "nbconvert_exporter": "python",
   "pygments_lexer": "ipython3",
   "version": "3.8.6"
  }
 },
 "nbformat": 4,
 "nbformat_minor": 4
}
