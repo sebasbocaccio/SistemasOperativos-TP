{
 "cells": [
  {
   "cell_type": "code",
   "execution_count": null,
   "metadata": {},
   "outputs": [],
   "source": [
    "import numpy as np\n",
    "import pandas as pd\n",
    "import seaborn as sns\n",
    "import matplotlib.pyplot as plt\n"
   ]
  },
  {
   "cell_type": "code",
   "execution_count": null,
   "metadata": {},
   "outputs": [],
   "source": [
    "def correlacion_pearson(data_frame, columna1, columna2):\n",
    "    return np.corrcoef(data_frame[columna1], data_frame[columna2])[0,1];"
   ]
  },
  {
   "cell_type": "markdown",
   "metadata": {},
   "source": [
    "Leemos el dataset de los resultados"
   ]
  },
  {
   "cell_type": "code",
   "execution_count": null,
   "metadata": {},
   "outputs": [],
   "source": [
    "resultados = pd.read_csv(\"resultados/resultado.csv\");\n",
    "resultados.head()"
   ]
  },
  {
   "cell_type": "markdown",
   "metadata": {},
   "source": [
    "# Experimento 1: MaximoParalelo con 1 archivo"
   ]
  },
  {
   "cell_type": "markdown",
   "metadata": {},
   "source": [
    "# Experimento 2: Cargar 8 archivos"
   ]
  },
  {
   "cell_type": "code",
   "execution_count": null,
   "metadata": {},
   "outputs": [],
   "source": [
    "\n",
    "# densidad media\n",
    "maximos = resultados[(resultados[\"cantArchivos\"]==  49) & (resultados[\"threadsLectura\"]== 30)].copy();\n",
    "#print(maximos)\n",
    "fig = sns.scatterplot(data=maximos, x='threadsMaximo', y='TIEMPO_MAX', color=\"b\", label=\"maximo\");\n",
    "fig.set_title('experimento 1')\n",
    "fig.set(xlabel='#Threads para buscar el maximo', ylabel='tiempo (ms)');\n",
    "plt.savefig(\"MaximoParalelo\");"
   ]
  },
  {
   "cell_type": "code",
   "execution_count": null,
   "metadata": {},
   "outputs": [],
   "source": [
    "# densidad media\n",
    "maximos = resultados[(resultados[\"cantArchivos\"] ==  10) & (resultados[\"threadsMaximo\"]== 1)].copy();\n",
    "#print(maximos)\n",
    "fig = sns.scatterplot(data=maximos, x='threadsLectura', y='TIEMPO_CARGAR', color=\"b\", label=\"cargar archivos\");\n",
    "fig.set_title('experimeto 2')\n",
    "fig.set(xlabel='#Threads para cargar archivos', ylabel='tiempo (ms)');\n",
    "plt.savefig(\"MaximoParalelo\");"
   ]
  },
  {
   "cell_type": "markdown",
   "metadata": {},
   "source": [
    "### HEATMAP"
   ]
  },
  {
   "cell_type": "code",
   "execution_count": null,
   "metadata": {},
   "outputs": [],
   "source": [
    "# Graficamos los tie& (bt_resultados[\"dataset\"]==\"densidad-media-optimalidad\")mpos de ejecución de cada dataset en función de n.\n",
    "# complejidad_DP = resultados[(bt_resultados[\"metodo\"]==\"DP\") & (bt_resultados[\"dataset\"]==\"programacion-dinamica\")].copy();\n",
    "\n",
    "heatmap1_data = pd.pivot_table(resultados, values='TIEMPO_MAX', index=['cantArchivos'], columns='threadsMaximo')\n",
    "heatmap1_data.sort_index(axis=0, ascending=False, inplace=True)\n",
    "foto = sns.heatmap(heatmap1_data, cmap=\"YlGnBu\")\n",
    "\n",
    "foto = foto.get_figure()\n",
    "foto.savefig(\"heatmapMaximo\")"
   ]
  },
  {
   "cell_type": "markdown",
   "metadata": {},
   "source": [
    "### HEATMAP"
   ]
  },
  {
   "cell_type": "code",
   "execution_count": null,
   "metadata": {},
   "outputs": [],
   "source": [
    "# Graficamos los tie& (bt_resultados[\"dataset\"]==\"densidad-media-optimalidad\")mpos de ejecución de cada dataset en función de n.\n",
    "# complejidad_DP = resultados[(bt_resultados[\"metodo\"]==\"DP\") & (bt_resultados[\"dataset\"]==\"programacion-dinamica\")].copy();\n",
    "\n",
    "heatmap1_data = pd.pivot_table(resultados, values='TIEMPO_CARGAR', index=['cantArchivos'], columns='threadsMaximo')\n",
    "heatmap1_data.sort_index(axis=0, ascending=False, inplace=True)\n",
    "foto = sns.heatmap(heatmap1_data, cmap=\"YlGnBu\")\n",
    "\n",
    "foto = foto.get_figure()\n",
    "foto.savefig(\"heatmapCargar\")"
   ]
  },
  {
   "cell_type": "code",
   "execution_count": null,
   "metadata": {},
   "outputs": [],
   "source": []
  }
 ],
 "metadata": {
  "kernelspec": {
   "display_name": "Python 3",
   "language": "python",
   "name": "python3"
  },
  "language_info": {
   "codemirror_mode": {
    "name": "ipython",
    "version": 3
   },
   "file_extension": ".py",
   "mimetype": "text/x-python",
   "name": "python",
   "nbconvert_exporter": "python",
   "pygments_lexer": "ipython3",
   "version": "3.8.3"
  }
 },
 "nbformat": 4,
 "nbformat_minor": 4
}
