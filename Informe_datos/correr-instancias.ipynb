{
 "cells": [
  {
   "cell_type": "markdown",
   "metadata": {},
   "source": [
    "Experimentos:"
   ]
  },
  {
   "cell_type": "code",
   "execution_count": 1,
   "metadata": {},
   "outputs": [],
   "source": [
    "import math, subprocess\n",
    "import pandas as pd\n",
    "import numpy as np\n",
    "from IPython.display import display, clear_output\n",
    "import seaborn as sns"
   ]
  },
  {
   "cell_type": "markdown",
   "metadata": {},
   "source": [
    "A continuación leemos los datasets en dataframes de Pandas."
   ]
  },
  {
   "cell_type": "markdown",
   "metadata": {},
   "source": [
    "La siguiente función sirve para correr el código sobre una instancia ejecutando un método en particular.\n",
    "\n",
    "    FB: Fuerza bruta\n",
    "    BT: Backtracking con ambas podas.\n",
    "    BT-F: Backtracking solamente con poda por factibilidad.\n",
    "    BT-O: Backtracking solamente con poda por optimalidad.\n",
    "    DP: Programación dinámica.\n",
    "\n"
   ]
  },
  {
   "cell_type": "code",
   "execution_count": 2,
   "metadata": {},
   "outputs": [],
   "source": [
    "def leer_instancia(path_instancia):\n",
    "    with open(path_instancia, \"r\") as f:\n",
    "        return f.read();\n",
    "\n",
    "df_densidad_alta_factibilidad = pd.read_csv(\"instancias/densidad-alta-factibilidad/indice.csv\");\n",
    "df_densidad_baja_factibilidad = pd.read_csv(\"instancias/densidad-baja-factibilidad/indice.csv\");\n",
    "df_densidad_media_factibilidad = pd.read_csv(\"instancias/densidad-media-factibilidad/indice.csv\");\n",
    "df_densidad_alta_optimalidad = pd.read_csv(\"instancias/densidad-alta-optimalidad/indice.csv\");\n",
    "df_densidad_baja_optimalidad = pd.read_csv(\"instancias/densidad-baja-optimalidad/indice.csv\");\n",
    "df_densidad_media_optimalidad = pd.read_csv(\"instancias/densidad-media-optimalidad/indice.csv\");\n",
    "\n",
    "df_mejor_caso_bt_optimalidad = pd.read_csv(\"instancias/mejor-caso-bt-o/indice.csv\");\n",
    "df_peor_caso_bt_optimalidad = pd.read_csv(\"instancias/peor-caso-bt-o/indice.csv\");\n",
    "df_mejor_caso_bt_factibilidad = pd.read_csv(\"instancias/mejor-caso-bt-f/indice.csv\");\n",
    "df_peor_caso_bt_factibilidad = pd.read_csv(\"instancias/peor-caso-bt-f/indice.csv\");\n",
    "#df_peor_caso_bt = pd.read_csv(\"instancias/peor-caso-bt/indice.csv\");\n",
    "df_dinamica_vs_backtracking = pd.read_csv(\"instancias/programacion-dinamica-contra-backtracking/indice.csv\");\n",
    "df_dinamica= pd.read_csv(\"instancias/programacion-dinamica/indice.csv\");\n"
   ]
  },
  {
   "cell_type": "code",
   "execution_count": 3,
   "metadata": {},
   "outputs": [],
   "source": [
    "def correr_experimento(metodo, archivo_instancia):\n",
    "    # Leer archivo de la instancia.\n",
    "    instancia = leer_instancia(archivo_instancia)\n",
    "    \n",
    "    # Crear proceso para ejecutar el codigo.\n",
    "    process = subprocess.Popen([\"./a.out\", metodo], stderr=subprocess.PIPE, stdout=subprocess.PIPE, stdin=subprocess.PIPE, universal_newlines = True)\n",
    "\n",
    "    # Poner la instancia en la entrada estandar.\n",
    "    process.stdin.write(instancia)\n",
    "    process.stdin.flush()\n",
    "\n",
    "    # Correr experimento.\n",
    "    exit_code = process.wait()\n",
    "\n",
    "    # Verificar que el proceso no fallo.\n",
    "    if exit_code != 0: raise(F\"Hubo un error en la experimentacion para el algoritmo: {algoritmo} con la instancia {archivo_instancia}.\")\n",
    "    # Leer salida de STDERR con los tiempos de ejecucion de cada metodo.\n",
    "    tiempo_de_ejecucion = float(process.stderr.read());\n",
    "    \n",
    "    process.stdin.close();\n",
    "    process.stdout.close();\n",
    "    process.stderr.close();\n",
    "    \n",
    "    return tiempo_de_ejecucion;"
   ]
  },
  {
   "cell_type": "code",
   "execution_count": 4,
   "metadata": {},
   "outputs": [],
   "source": [
    "experimentos = [];"
   ]
  },
  {
   "cell_type": "markdown",
   "metadata": {},
   "source": [
    "Experimento Simple:"
   ]
  },
  {
   "cell_type": "markdown",
   "metadata": {},
   "source": [
    "for n in range(0, 1):\n",
    "    fila_n = df_mejor_caso_bt.iloc[n];\n",
    "    experimentos.append([fila_n[\"dataset\"], n, fila_n[\"n\"], fila_n[\"W\"], \"FB\", fila_n[\"archivo\"]]);"
   ]
  },
  {
   "cell_type": "code",
   "execution_count": 5,
   "metadata": {},
   "outputs": [
    {
     "data": {
      "text/html": [
       "<div>\n",
       "<style scoped>\n",
       "    .dataframe tbody tr th:only-of-type {\n",
       "        vertical-align: middle;\n",
       "    }\n",
       "\n",
       "    .dataframe tbody tr th {\n",
       "        vertical-align: top;\n",
       "    }\n",
       "\n",
       "    .dataframe thead th {\n",
       "        text-align: right;\n",
       "    }\n",
       "</style>\n",
       "<table border=\"1\" class=\"dataframe\">\n",
       "  <thead>\n",
       "    <tr style=\"text-align: right;\">\n",
       "      <th></th>\n",
       "      <th>dataset</th>\n",
       "      <th>instancia</th>\n",
       "      <th>n</th>\n",
       "      <th>M</th>\n",
       "      <th>archivo</th>\n",
       "    </tr>\n",
       "  </thead>\n",
       "  <tbody>\n",
       "    <tr>\n",
       "      <th>0</th>\n",
       "      <td>densidad-alta-factibilidad</td>\n",
       "      <td>BT-F-DA-0</td>\n",
       "      <td>0</td>\n",
       "      <td>0</td>\n",
       "      <td>instancias/densidad-alta-factibilidad/BT-F-DA-...</td>\n",
       "    </tr>\n",
       "    <tr>\n",
       "      <th>1</th>\n",
       "      <td>densidad-alta-factibilidad</td>\n",
       "      <td>BT-F-DA-1</td>\n",
       "      <td>1</td>\n",
       "      <td>7</td>\n",
       "      <td>instancias/densidad-alta-factibilidad/BT-F-DA-...</td>\n",
       "    </tr>\n",
       "    <tr>\n",
       "      <th>2</th>\n",
       "      <td>densidad-alta-factibilidad</td>\n",
       "      <td>BT-F-DA-2</td>\n",
       "      <td>2</td>\n",
       "      <td>15</td>\n",
       "      <td>instancias/densidad-alta-factibilidad/BT-F-DA-...</td>\n",
       "    </tr>\n",
       "    <tr>\n",
       "      <th>3</th>\n",
       "      <td>densidad-alta-factibilidad</td>\n",
       "      <td>BT-F-DA-3</td>\n",
       "      <td>3</td>\n",
       "      <td>22</td>\n",
       "      <td>instancias/densidad-alta-factibilidad/BT-F-DA-...</td>\n",
       "    </tr>\n",
       "    <tr>\n",
       "      <th>4</th>\n",
       "      <td>densidad-alta-factibilidad</td>\n",
       "      <td>BT-F-DA-4</td>\n",
       "      <td>4</td>\n",
       "      <td>30</td>\n",
       "      <td>instancias/densidad-alta-factibilidad/BT-F-DA-...</td>\n",
       "    </tr>\n",
       "  </tbody>\n",
       "</table>\n",
       "</div>"
      ],
      "text/plain": [
       "                      dataset  instancia  n   M  \\\n",
       "0  densidad-alta-factibilidad  BT-F-DA-0  0   0   \n",
       "1  densidad-alta-factibilidad  BT-F-DA-1  1   7   \n",
       "2  densidad-alta-factibilidad  BT-F-DA-2  2  15   \n",
       "3  densidad-alta-factibilidad  BT-F-DA-3  3  22   \n",
       "4  densidad-alta-factibilidad  BT-F-DA-4  4  30   \n",
       "\n",
       "                                             archivo  \n",
       "0  instancias/densidad-alta-factibilidad/BT-F-DA-...  \n",
       "1  instancias/densidad-alta-factibilidad/BT-F-DA-...  \n",
       "2  instancias/densidad-alta-factibilidad/BT-F-DA-...  \n",
       "3  instancias/densidad-alta-factibilidad/BT-F-DA-...  \n",
       "4  instancias/densidad-alta-factibilidad/BT-F-DA-...  "
      ]
     },
     "execution_count": 5,
     "metadata": {},
     "output_type": "execute_result"
    }
   ],
   "source": [
    "bt_resultados = pd.read_csv(\"instancias/densidad-alta-factibilidad/indice.csv\");\n",
    "bt_resultados.head()"
   ]
  },
  {
   "cell_type": "code",
   "execution_count": 6,
   "metadata": {},
   "outputs": [],
   "source": [
    "cantidad_locales_factibilidad = 45"
   ]
  },
  {
   "cell_type": "markdown",
   "metadata": {},
   "source": [
    "### Experimento Backtracking densidad alta factibilidad:"
   ]
  },
  {
   "cell_type": "code",
   "execution_count": 7,
   "metadata": {},
   "outputs": [],
   "source": [
    "for n in range(0, cantidad_locales_factibilidad - 1):\n",
    "    fila_n = df_densidad_alta_factibilidad.iloc[n];\n",
    "    experimentos.append([fila_n[\"dataset\"], n, fila_n[\"n\"], fila_n[\"M\"], \"BT-F\", fila_n[\"archivo\"]]);"
   ]
  },
  {
   "cell_type": "markdown",
   "metadata": {},
   "source": [
    "### Experimento Backtracking densidad media factibilidad:"
   ]
  },
  {
   "cell_type": "code",
   "execution_count": 8,
   "metadata": {},
   "outputs": [],
   "source": [
    "for n in range(0, cantidad_locales_factibilidad - 1):\n",
    "    fila_n = df_densidad_media_factibilidad.iloc[n];\n",
    "    experimentos.append([fila_n[\"dataset\"], n, fila_n[\"n\"], fila_n[\"M\"], \"BT-F\", fila_n[\"archivo\"]]);"
   ]
  },
  {
   "cell_type": "markdown",
   "metadata": {},
   "source": [
    "### Experimento Backtracking densidad baja factibilidad:"
   ]
  },
  {
   "cell_type": "code",
   "execution_count": 1,
   "metadata": {},
   "outputs": [
    {
     "ename": "NameError",
     "evalue": "name 'cantidad_locales_factibilidad' is not defined",
     "output_type": "error",
     "traceback": [
      "\u001b[0;31m---------------------------------------------------------------------------\u001b[0m",
      "\u001b[0;31mNameError\u001b[0m                                 Traceback (most recent call last)",
      "\u001b[0;32m<ipython-input-1-bab8fdc34981>\u001b[0m in \u001b[0;36m<module>\u001b[0;34m\u001b[0m\n\u001b[0;32m----> 1\u001b[0;31m \u001b[0;32mfor\u001b[0m \u001b[0mn\u001b[0m \u001b[0;32min\u001b[0m \u001b[0mrange\u001b[0m\u001b[0;34m(\u001b[0m\u001b[0;36m0\u001b[0m\u001b[0;34m,\u001b[0m \u001b[0mcantidad_locales_factibilidad\u001b[0m \u001b[0;34m-\u001b[0m \u001b[0;36m1\u001b[0m\u001b[0;34m)\u001b[0m\u001b[0;34m:\u001b[0m\u001b[0;34m\u001b[0m\u001b[0;34m\u001b[0m\u001b[0m\n\u001b[0m\u001b[1;32m      2\u001b[0m     \u001b[0mfila_n\u001b[0m \u001b[0;34m=\u001b[0m \u001b[0mdf_densidad_baja_factibilidad\u001b[0m\u001b[0;34m.\u001b[0m\u001b[0miloc\u001b[0m\u001b[0;34m[\u001b[0m\u001b[0mn\u001b[0m\u001b[0;34m]\u001b[0m\u001b[0;34m;\u001b[0m\u001b[0;34m\u001b[0m\u001b[0;34m\u001b[0m\u001b[0m\n\u001b[1;32m      3\u001b[0m     \u001b[0mexperimentos\u001b[0m\u001b[0;34m.\u001b[0m\u001b[0mappend\u001b[0m\u001b[0;34m(\u001b[0m\u001b[0;34m[\u001b[0m\u001b[0mfila_n\u001b[0m\u001b[0;34m[\u001b[0m\u001b[0;34m\"dataset\"\u001b[0m\u001b[0;34m]\u001b[0m\u001b[0;34m,\u001b[0m \u001b[0mn\u001b[0m\u001b[0;34m,\u001b[0m \u001b[0mfila_n\u001b[0m\u001b[0;34m[\u001b[0m\u001b[0;34m\"n\"\u001b[0m\u001b[0;34m]\u001b[0m\u001b[0;34m,\u001b[0m \u001b[0mfila_n\u001b[0m\u001b[0;34m[\u001b[0m\u001b[0;34m\"M\"\u001b[0m\u001b[0;34m]\u001b[0m\u001b[0;34m,\u001b[0m \u001b[0;34m\"BT-F\"\u001b[0m\u001b[0;34m,\u001b[0m \u001b[0mfila_n\u001b[0m\u001b[0;34m[\u001b[0m\u001b[0;34m\"archivo\"\u001b[0m\u001b[0;34m]\u001b[0m\u001b[0;34m]\u001b[0m\u001b[0;34m)\u001b[0m\u001b[0;34m;\u001b[0m\u001b[0;34m\u001b[0m\u001b[0;34m\u001b[0m\u001b[0m\n",
      "\u001b[0;31mNameError\u001b[0m: name 'cantidad_locales_factibilidad' is not defined"
     ]
    }
   ],
   "source": [
    "for n in range(0, cantidad_locales_factibilidad - 1):\n",
    "    fila_n = df_densidad_baja_factibilidad.iloc[n];\n",
    "    experimentos.append([fila_n[\"dataset\"], n, fila_n[\"n\"], fila_n[\"M\"], \"BT-F\", fila_n[\"archivo\"]]);"
   ]
  },
  {
   "cell_type": "markdown",
   "metadata": {},
   "source": [
    "### Experimento Backtracking densidad alta Optimalidad:"
   ]
  },
  {
   "cell_type": "code",
   "execution_count": 7,
   "metadata": {},
   "outputs": [],
   "source": [
    "for n in range(1, cantidad_locales_factibilidad - 1):\n",
    "    fila_n = df_densidad_alta_optimalidad.iloc[n];\n",
    "    experimentos.append([fila_n[\"dataset\"], n, fila_n[\"n\"], fila_n[\"M\"], \"BT-O\", fila_n[\"archivo\"]]);\n",
    "#print(experimentos)"
   ]
  },
  {
   "cell_type": "markdown",
   "metadata": {},
   "source": [
    "### Experimento Backtracking densidad baja Optimalidad:"
   ]
  },
  {
   "cell_type": "code",
   "execution_count": 8,
   "metadata": {},
   "outputs": [],
   "source": [
    "for n in range(1, cantidad_locales_factibilidad - 1):\n",
    "    fila_n = df_densidad_baja_optimalidad.iloc[n];\n",
    "    experimentos.append([fila_n[\"dataset\"], n, fila_n[\"n\"], fila_n[\"M\"], \"BT-O\", fila_n[\"archivo\"]]);\n",
    "#print(experimentos)"
   ]
  },
  {
   "cell_type": "markdown",
   "metadata": {},
   "source": [
    "### Experimento Backtracking densidad media Optimalidad:"
   ]
  },
  {
   "cell_type": "code",
   "execution_count": 9,
   "metadata": {},
   "outputs": [],
   "source": [
    "for n in range(1, cantidad_locales_factibilidad - 1):\n",
    "    fila_n = df_densidad_media_optimalidad.iloc[n];\n",
    "    experimentos.append([fila_n[\"dataset\"], n, fila_n[\"n\"], fila_n[\"M\"], \"BT-O\", fila_n[\"archivo\"]]);\n",
    "#print(experimentos)"
   ]
  },
  {
   "cell_type": "markdown",
   "metadata": {},
   "source": [
    "### Experimento Backtracking sin podas con las instancias de densidad alta factibilidad"
   ]
  },
  {
   "cell_type": "code",
   "execution_count": 13,
   "metadata": {},
   "outputs": [],
   "source": [
    "for n in range(0, cantidad_locales_factibilidad - 1):\n",
    "    fila_n = df_densidad_alta_factibilidad.iloc[n];\n",
    "    experimentos.append([fila_n[\"dataset\"], n, fila_n[\"n\"], fila_n[\"M\"], \"BT\", fila_n[\"archivo\"]]);"
   ]
  },
  {
   "cell_type": "markdown",
   "metadata": {},
   "source": [
    "### Experimento Backtracking sin podas con las instancias de densidad media factibilidad"
   ]
  },
  {
   "cell_type": "code",
   "execution_count": 14,
   "metadata": {},
   "outputs": [],
   "source": [
    "for n in range(0, cantidad_locales_factibilidad - 1):\n",
    "    fila_n = df_densidad_media_factibilidad.iloc[n];\n",
    "    experimentos.append([fila_n[\"dataset\"], n, fila_n[\"n\"], fila_n[\"M\"], \"BT\", fila_n[\"archivo\"]]);"
   ]
  },
  {
   "cell_type": "markdown",
   "metadata": {},
   "source": [
    "### Experimento Backtracking sin podas con las instancias de densidad baja factibilidad"
   ]
  },
  {
   "cell_type": "code",
   "execution_count": 15,
   "metadata": {},
   "outputs": [],
   "source": [
    "for n in range(0, cantidad_locales_factibilidad - 1):\n",
    "    fila_n = df_densidad_baja_factibilidad.iloc[n];\n",
    "    experimentos.append([fila_n[\"dataset\"], n, fila_n[\"n\"], fila_n[\"M\"], \"BT\", fila_n[\"archivo\"]]);"
   ]
  },
  {
   "cell_type": "markdown",
   "metadata": {},
   "source": [
    "### Experimento Backtracking sin podas con las instancias de densidad alta optimalidad:"
   ]
  },
  {
   "cell_type": "code",
   "execution_count": 16,
   "metadata": {},
   "outputs": [],
   "source": [
    "for n in range(1, cantidad_locales_factibilidad - 1):\n",
    "    fila_n = df_densidad_alta_optimalidad.iloc[n];\n",
    "    experimentos.append([fila_n[\"dataset\"], n, fila_n[\"n\"], fila_n[\"M\"], \"BT\", fila_n[\"archivo\"]]);\n",
    "#print(experimentos)"
   ]
  },
  {
   "cell_type": "markdown",
   "metadata": {},
   "source": [
    "### Experimento Backtracking sin podas con las instancias de densidad baja optimalidad:"
   ]
  },
  {
   "cell_type": "code",
   "execution_count": 17,
   "metadata": {},
   "outputs": [],
   "source": [
    "for n in range(1, cantidad_locales_factibilidad - 1):\n",
    "    fila_n = df_densidad_baja_optimalidad.iloc[n];\n",
    "    experimentos.append([fila_n[\"dataset\"], n, fila_n[\"n\"], fila_n[\"M\"], \"BT\", fila_n[\"archivo\"]]);\n",
    "#print(experimentos)"
   ]
  },
  {
   "cell_type": "markdown",
   "metadata": {},
   "source": [
    "### Experimento Backtracking sin podas con las instancias de densidad media optimalidad:"
   ]
  },
  {
   "cell_type": "code",
   "execution_count": 18,
   "metadata": {},
   "outputs": [],
   "source": [
    "for n in range(1, cantidad_locales_factibilidad - 1):\n",
    "    fila_n = df_densidad_media_optimalidad.iloc[n];\n",
    "    experimentos.append([fila_n[\"dataset\"], n, fila_n[\"n\"], fila_n[\"M\"], \"BT\", fila_n[\"archivo\"]]);\n",
    "#print(experimentos)"
   ]
  },
  {
   "cell_type": "markdown",
   "metadata": {},
   "source": [
    "### Experimento Backtracking AMBAS PODAS con las instancias de densidad alta factibilidad"
   ]
  },
  {
   "cell_type": "code",
   "execution_count": 19,
   "metadata": {},
   "outputs": [],
   "source": [
    "for n in range(0, cantidad_locales_factibilidad - 1):\n",
    "    fila_n = df_densidad_alta_factibilidad.iloc[n];\n",
    "    experimentos.append([fila_n[\"dataset\"], n, fila_n[\"n\"], fila_n[\"M\"], \"BT-A\", fila_n[\"archivo\"]]);"
   ]
  },
  {
   "cell_type": "markdown",
   "metadata": {},
   "source": [
    "### Experimento Backtracking AMBAS PODAS con las instancias de densidad media factibilidad"
   ]
  },
  {
   "cell_type": "code",
   "execution_count": 20,
   "metadata": {},
   "outputs": [],
   "source": [
    "for n in range(0, cantidad_locales_factibilidad - 1):\n",
    "    fila_n = df_densidad_media_factibilidad.iloc[n];\n",
    "    experimentos.append([fila_n[\"dataset\"], n, fila_n[\"n\"], fila_n[\"M\"], \"BT-A\", fila_n[\"archivo\"]]);"
   ]
  },
  {
   "cell_type": "markdown",
   "metadata": {},
   "source": [
    "### Experimento Backtracking AMBAS PODAS con las instancias de densidad baja factibilidad"
   ]
  },
  {
   "cell_type": "code",
   "execution_count": 21,
   "metadata": {},
   "outputs": [],
   "source": [
    "for n in range(0, cantidad_locales_factibilidad - 1):\n",
    "    fila_n = df_densidad_baja_factibilidad.iloc[n];\n",
    "    experimentos.append([fila_n[\"dataset\"], n, fila_n[\"n\"], fila_n[\"M\"], \"BT-A\", fila_n[\"archivo\"]]);"
   ]
  },
  {
   "cell_type": "markdown",
   "metadata": {},
   "source": [
    "### Experimento Backtracking AMBAS PODAS con las instancias de densidad alta optimalidad:"
   ]
  },
  {
   "cell_type": "code",
   "execution_count": 22,
   "metadata": {},
   "outputs": [],
   "source": [
    "for n in range(1, cantidad_locales_factibilidad - 1):\n",
    "    fila_n = df_densidad_alta_optimalidad.iloc[n];\n",
    "    experimentos.append([fila_n[\"dataset\"], n, fila_n[\"n\"], fila_n[\"M\"], \"BT-A\", fila_n[\"archivo\"]]);\n",
    "#print(experimentos)"
   ]
  },
  {
   "cell_type": "markdown",
   "metadata": {},
   "source": [
    "### Experimento Backtracking AMBAS PODAS con las instancias de densidad baja optimalidad:"
   ]
  },
  {
   "cell_type": "code",
   "execution_count": 23,
   "metadata": {},
   "outputs": [],
   "source": [
    "for n in range(1, cantidad_locales_factibilidad - 1):\n",
    "    fila_n = df_densidad_baja_optimalidad.iloc[n];\n",
    "    experimentos.append([fila_n[\"dataset\"], n, fila_n[\"n\"], fila_n[\"M\"], \"BT-A\", fila_n[\"archivo\"]]);\n",
    "#print(experimentos)"
   ]
  },
  {
   "cell_type": "markdown",
   "metadata": {},
   "source": [
    "### Experimento Backtracking AMBAS PODAS con las instancias de densidad media optimalidad:"
   ]
  },
  {
   "cell_type": "code",
   "execution_count": 24,
   "metadata": {},
   "outputs": [],
   "source": [
    "for n in range(1, cantidad_locales_factibilidad - 1):\n",
    "    fila_n = df_densidad_media_optimalidad.iloc[n];\n",
    "    experimentos.append([fila_n[\"dataset\"], n, fila_n[\"n\"], fila_n[\"M\"], \"BT-A\", fila_n[\"archivo\"]]);\n",
    "#print(experimentos)"
   ]
  },
  {
   "cell_type": "markdown",
   "metadata": {},
   "source": [
    "###  Mejor caso OPTIMALIDAD:"
   ]
  },
  {
   "cell_type": "code",
   "execution_count": 25,
   "metadata": {},
   "outputs": [],
   "source": [
    "for n in range(1, 31):\n",
    "    fila_n = df_mejor_caso_bt_optimalidad.iloc[n];\n",
    "    experimentos.append([fila_n[\"dataset\"], n, fila_n[\"n\"], fila_n[\"M\"], \"BT-O\", fila_n[\"archivo\"]]);\n",
    "#print(experimentos)"
   ]
  },
  {
   "cell_type": "markdown",
   "metadata": {},
   "source": [
    "###  Peor caso OPTIMALIDAD:"
   ]
  },
  {
   "cell_type": "code",
   "execution_count": 26,
   "metadata": {},
   "outputs": [],
   "source": [
    "for n in range(1, 31):\n",
    "    fila_n = df_peor_caso_bt_optimalidad.iloc[n];\n",
    "    experimentos.append([fila_n[\"dataset\"], n, fila_n[\"n\"], fila_n[\"M\"], \"BT-O\", fila_n[\"archivo\"]]);\n",
    "#print(experimentos)\n"
   ]
  },
  {
   "cell_type": "markdown",
   "metadata": {},
   "source": [
    "###  Mejor caso FACTIBILIDAD"
   ]
  },
  {
   "cell_type": "code",
   "execution_count": 27,
   "metadata": {},
   "outputs": [],
   "source": [
    "for n in range(1, cantidad_locales_factibilidad):\n",
    "    fila_n = df_mejor_caso_bt_factibilidad.iloc[n];\n",
    "    experimentos.append([fila_n[\"dataset\"], n, fila_n[\"n\"], fila_n[\"M\"], \"BT-F\", fila_n[\"archivo\"]]);\n",
    "#print(experimentos)"
   ]
  },
  {
   "cell_type": "markdown",
   "metadata": {},
   "source": [
    "###  Peor caso FACTIBILIDAD:"
   ]
  },
  {
   "cell_type": "code",
   "execution_count": 28,
   "metadata": {},
   "outputs": [],
   "source": [
    "for n in range(1, cantidad_locales_factibilidad):\n",
    "    fila_n = df_peor_caso_bt_factibilidad.iloc[n];\n",
    "    experimentos.append([fila_n[\"dataset\"], n, fila_n[\"n\"], fila_n[\"M\"], \"BT-F\", fila_n[\"archivo\"]]);\n",
    "#print(experimentos)\n"
   ]
  },
  {
   "cell_type": "markdown",
   "metadata": {},
   "source": [
    "## FUERZA BRUTA"
   ]
  },
  {
   "cell_type": "code",
   "execution_count": 13,
   "metadata": {},
   "outputs": [],
   "source": [
    "cantidad_locales_factibilidad = 25"
   ]
  },
  {
   "cell_type": "markdown",
   "metadata": {},
   "source": [
    "### Experimento FB con las instancias de densidad alta factibilidad"
   ]
  },
  {
   "cell_type": "code",
   "execution_count": 14,
   "metadata": {},
   "outputs": [],
   "source": [
    "for n in range(0, cantidad_locales_factibilidad - 1):\n",
    "    fila_n = df_densidad_alta_factibilidad.iloc[n];\n",
    "    experimentos.append([fila_n[\"dataset\"], n, fila_n[\"n\"], fila_n[\"M\"], \"FB\", fila_n[\"archivo\"]]);"
   ]
  },
  {
   "cell_type": "markdown",
   "metadata": {},
   "source": [
    "### Experimento FB con las instancias de densidad media factibilidad"
   ]
  },
  {
   "cell_type": "code",
   "execution_count": 15,
   "metadata": {},
   "outputs": [],
   "source": [
    "for n in range(0, cantidad_locales_factibilidad - 1):\n",
    "    fila_n = df_densidad_media_factibilidad.iloc[n];\n",
    "    experimentos.append([fila_n[\"dataset\"], n, fila_n[\"n\"], fila_n[\"M\"], \"FB\", fila_n[\"archivo\"]]);"
   ]
  },
  {
   "cell_type": "markdown",
   "metadata": {},
   "source": [
    "### Experimento FB con las instancias de densidad baja factibilidad"
   ]
  },
  {
   "cell_type": "code",
   "execution_count": 16,
   "metadata": {},
   "outputs": [],
   "source": [
    "for n in range(0, cantidad_locales_factibilidad - 1):\n",
    "    fila_n = df_densidad_baja_factibilidad.iloc[n];\n",
    "    experimentos.append([fila_n[\"dataset\"], n, fila_n[\"n\"], fila_n[\"M\"], \"FB\", fila_n[\"archivo\"]]);"
   ]
  },
  {
   "cell_type": "markdown",
   "metadata": {},
   "source": [
    "### Experimento FB con las instancias de densidad alta optimalidad:"
   ]
  },
  {
   "cell_type": "code",
   "execution_count": 17,
   "metadata": {},
   "outputs": [],
   "source": [
    "for n in range(1, cantidad_locales_factibilidad - 1):\n",
    "    fila_n = df_densidad_alta_optimalidad.iloc[n];\n",
    "    experimentos.append([fila_n[\"dataset\"], n, fila_n[\"n\"], fila_n[\"M\"], \"FB\", fila_n[\"archivo\"]]);\n",
    "#print(experimentos)"
   ]
  },
  {
   "cell_type": "markdown",
   "metadata": {},
   "source": [
    "### Experimento FB con las instancias de densidad baja optimalidad:"
   ]
  },
  {
   "cell_type": "code",
   "execution_count": 18,
   "metadata": {},
   "outputs": [],
   "source": [
    "for n in range(1, cantidad_locales_factibilidad - 1):\n",
    "    fila_n = df_densidad_baja_optimalidad.iloc[n];\n",
    "    experimentos.append([fila_n[\"dataset\"], n, fila_n[\"n\"], fila_n[\"M\"], \"FB\", fila_n[\"archivo\"]]);\n",
    "#print(experimentos)"
   ]
  },
  {
   "cell_type": "markdown",
   "metadata": {},
   "source": [
    "### Experimento FB con las instancias de densidad media optimalidad:"
   ]
  },
  {
   "cell_type": "code",
   "execution_count": 19,
   "metadata": {},
   "outputs": [],
   "source": [
    "for n in range(1, cantidad_locales_factibilidad - 1):\n",
    "    fila_n = df_densidad_media_optimalidad.iloc[n];\n",
    "    experimentos.append([fila_n[\"dataset\"], n, fila_n[\"n\"], fila_n[\"M\"], \"FB\", fila_n[\"archivo\"]]);\n",
    "#print(experimentos)"
   ]
  },
  {
   "cell_type": "markdown",
   "metadata": {},
   "source": [
    "###  Mejor caso OPTIMALIDAD BT:"
   ]
  },
  {
   "cell_type": "code",
   "execution_count": 7,
   "metadata": {},
   "outputs": [],
   "source": [
    "for n in range(1, 31):\n",
    "    fila_n = df_mejor_caso_bt_optimalidad.iloc[n];\n",
    "    experimentos.append([fila_n[\"dataset\"], n, fila_n[\"n\"], fila_n[\"M\"], \"BT\", fila_n[\"archivo\"]]);\n",
    "#print(experimentos)"
   ]
  },
  {
   "cell_type": "markdown",
   "metadata": {},
   "source": [
    "###  Peor caso OPTIMALIDAD BT:"
   ]
  },
  {
   "cell_type": "code",
   "execution_count": 8,
   "metadata": {},
   "outputs": [],
   "source": [
    "for n in range(1, 31):\n",
    "    fila_n = df_peor_caso_bt_optimalidad.iloc[n];\n",
    "    experimentos.append([fila_n[\"dataset\"], n, fila_n[\"n\"], fila_n[\"M\"], \"BT\", fila_n[\"archivo\"]]);\n",
    "#print(experimentos)\n"
   ]
  },
  {
   "cell_type": "markdown",
   "metadata": {},
   "source": [
    "###  Mejor caso FACTIBILIDAD BT"
   ]
  },
  {
   "cell_type": "code",
   "execution_count": 9,
   "metadata": {},
   "outputs": [],
   "source": [
    "for n in range(1, cantidad_locales_factibilidad):\n",
    "    fila_n = df_mejor_caso_bt_factibilidad.iloc[n];\n",
    "    experimentos.append([fila_n[\"dataset\"], n, fila_n[\"n\"], fila_n[\"M\"], \"BT\", fila_n[\"archivo\"]]);\n",
    "#print(experimentos)"
   ]
  },
  {
   "cell_type": "markdown",
   "metadata": {},
   "source": [
    "###  Peor caso FACTIBILIDAD: BT"
   ]
  },
  {
   "cell_type": "code",
   "execution_count": 10,
   "metadata": {},
   "outputs": [],
   "source": [
    "for n in range(1, cantidad_locales_factibilidad):\n",
    "    fila_n = df_peor_caso_bt_factibilidad.iloc[n];\n",
    "    experimentos.append([fila_n[\"dataset\"], n, fila_n[\"n\"], fila_n[\"M\"], \"BT\", fila_n[\"archivo\"]]);\n",
    "#print(experimentos)\n"
   ]
  },
  {
   "cell_type": "markdown",
   "metadata": {},
   "source": [
    "## programacion dinamica vs backtracking"
   ]
  },
  {
   "cell_type": "markdown",
   "metadata": {},
   "source": [
    "### dinamica:"
   ]
  },
  {
   "cell_type": "code",
   "execution_count": 10,
   "metadata": {},
   "outputs": [],
   "source": [
    "for n in range(1, 499):\n",
    "    fila_n = df_dinamica_vs_backtracking.iloc[n];\n",
    "    experimentos.append([fila_n[\"dataset\"], n, fila_n[\"n\"], fila_n[\"M\"], \"DP\", fila_n[\"archivo\"]]);"
   ]
  },
  {
   "cell_type": "markdown",
   "metadata": {},
   "source": [
    "### backtracking:"
   ]
  },
  {
   "cell_type": "code",
   "execution_count": 11,
   "metadata": {},
   "outputs": [],
   "source": [
    "for n in range(1, 499):\n",
    "    fila_n = df_dinamica_vs_backtracking.iloc[n];\n",
    "    experimentos.append([fila_n[\"dataset\"], n, fila_n[\"n\"], fila_n[\"M\"], \"BT-A\", fila_n[\"archivo\"]]);"
   ]
  },
  {
   "cell_type": "markdown",
   "metadata": {},
   "source": [
    "## DINAMICA"
   ]
  },
  {
   "cell_type": "code",
   "execution_count": 12,
   "metadata": {},
   "outputs": [],
   "source": [
    "for n in range(1, 361):\n",
    "    fila_n = df_dinamica.iloc[n];\n",
    "    experimentos.append([fila_n[\"dataset\"], n, fila_n[\"n\"], fila_n[\"M\"], \"DP\", fila_n[\"archivo\"]]);"
   ]
  },
  {
   "cell_type": "markdown",
   "metadata": {},
   "source": [
    "### Ejectuar los experimentos:"
   ]
  },
  {
   "cell_type": "markdown",
   "metadata": {},
   "source": [
    "columnas = [\"dataset\", \"n\", \"#locales\",\"M\", \"metodo\", \"tiempo\"];\n",
    "filas = [];\n",
    "numero = 1\n",
    "T = 5 #Numero de veces que se ejecuta cada experimento (para mayor fidelidad del tiempo).\n",
    "for experimento in experimentos:\n",
    "    # Voy mostrando que experimento se esta ejecutando.\n",
    "    clear_output(wait=True)\n",
    "    display('Experimento: ' + str(numero) + \"/\" + str(len(experimentos)))\n",
    "    numero += 1\n",
    "    \n",
    "    # Ejecutamos el experimento T veces y obtenemos la mediana.\n",
    "    tiempos = []\n",
    "    print(experimento[4], experimento[5])\n",
    "    for i in range(0, T):\n",
    "        tiempos.append(correr_experimento(experimento[4], experimento[5]));\n",
    "    tiempo = np.median(tiempos);\n",
    "    filas.append([experimento[0], experimento[1], experimento[2], experimento[3], experimento[4],tiempo]);\n",
    "df_resultado = pd.DataFrame(filas, columns=columnas);\n",
    "df_resultado.to_csv(\"resultados/resultado.csv\", index=False, header=True);"
   ]
  },
  {
   "cell_type": "code",
   "execution_count": 13,
   "metadata": {},
   "outputs": [
    {
     "data": {
      "text/plain": [
       "'Experimento: 1485/1485'"
      ]
     },
     "metadata": {},
     "output_type": "display_data"
    }
   ],
   "source": [
    "columnas = [\"dataset\", \"n\", \"#locales\",\"M\", \"metodo\", \"tiempo\"];\n",
    "filas = [];\n",
    "numero = 1\n",
    "T = 5 #Numero de veces que se ejecuta cada experimento (para mayor fidelidad del tiempo).\n",
    "for experimento in experimentos:\n",
    "    # Voy mostrando que experimento se esta ejecutando.\n",
    "    clear_output(wait=True)\n",
    "    display('Experimento: ' + str(numero) + \"/\" + str(len(experimentos)))\n",
    "    numero += 1\n",
    "    \n",
    "    #como los mejores casos duran muy poco las interrupciones del scheduler no nos dejan hacer una buena medicion del tiempo, \n",
    "        #por eso las corremos muchas veces para hacer un promedio\n",
    "    if(experimento[0] == \"mejor-caso-bt-o\" or experimento[0] == \"mejor-caso-bt-f\"):\n",
    "        T = 100\n",
    "    else:\n",
    "        T = 5\n",
    "    \n",
    "    # Ejecutamos el experimento T veces y obtenemos la mediana.\n",
    "    tiempos = []\n",
    "    #print(experimento[4], experimento[5])\n",
    "    for i in range(0, T):\n",
    "        tiempos.append(correr_experimento(experimento[4], experimento[5]));\n",
    "    tiempo = np.median(tiempos);\n",
    "    filas.append([experimento[0], experimento[1], experimento[2], experimento[3], experimento[4],tiempo]);\n",
    "df_resultado = pd.DataFrame(filas, columns=columnas);\n",
    "df_resultado.to_csv(\"resultados/resultado.csv\", index=False, header=True);"
   ]
  },
  {
   "cell_type": "markdown",
   "metadata": {},
   "source": [
    "    "
   ]
  },
  {
   "cell_type": "code",
   "execution_count": null,
   "metadata": {},
   "outputs": [],
   "source": []
  },
  {
   "cell_type": "code",
   "execution_count": null,
   "metadata": {},
   "outputs": [],
   "source": []
  },
  {
   "cell_type": "code",
   "execution_count": null,
   "metadata": {},
   "outputs": [],
   "source": []
  },
  {
   "cell_type": "code",
   "execution_count": null,
   "metadata": {},
   "outputs": [],
   "source": []
  },
  {
   "cell_type": "code",
   "execution_count": null,
   "metadata": {},
   "outputs": [],
   "source": []
  }
 ],
 "metadata": {
  "kernelspec": {
   "display_name": "Python 3",
   "language": "python",
   "name": "python3"
  },
  "language_info": {
   "codemirror_mode": {
    "name": "ipython",
    "version": 3
   },
   "file_extension": ".py",
   "mimetype": "text/x-python",
   "name": "python",
   "nbconvert_exporter": "python",
   "pygments_lexer": "ipython3",
   "version": "3.6.9"
  }
 },
 "nbformat": 4,
 "nbformat_minor": 4
}
