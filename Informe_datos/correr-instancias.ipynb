{
 "cells": [
  {
   "cell_type": "markdown",
   "metadata": {},
   "source": [
    "# Imports"
   ]
  },
  {
   "cell_type": "code",
   "execution_count": 7,
   "metadata": {},
   "outputs": [],
   "source": [
    "import math, subprocess\n",
    "import pandas as pd\n",
    "import numpy as np\n",
    "from IPython.display import display, clear_output\n",
    "import seaborn as sns"
   ]
  },
  {
   "cell_type": "markdown",
   "metadata": {},
   "source": [
    "## Definitions"
   ]
  },
  {
   "cell_type": "code",
   "execution_count": 8,
   "metadata": {},
   "outputs": [],
   "source": [
    "BIN = \"./../build/ContarPalabras\"\n",
    "TEST_FILE = \"../data/corpus\"\n",
    "runs = []"
   ]
  },
  {
   "cell_type": "code",
   "execution_count": 9,
   "metadata": {},
   "outputs": [],
   "source": [
    "def correr_experimento(t_leer, t_max, files):\n",
    "    # Leer archivo de la instancia.\n",
    "    # Crear proceso para ejecutar el codigo.\n",
    "    process = subprocess.Popen([BIN] + [t_leer, t_max] + files, stderr=subprocess.PIPE, stdout=subprocess.PIPE, stdin=subprocess.PIPE, universal_newlines = True)\n",
    "\n",
    "    # Correr experimento.\n",
    "    exit_code = process.wait()\n",
    "\n",
    "    time_l, time_max, _ = tuple(process.stderr.read().split(\"\\n\"))\n",
    "    \n",
    "    process.stdin.close();\n",
    "    process.stdout.close();\n",
    "    process.stderr.close();\n",
    "    \n",
    "    return [float(time_l), float(time_max)]"
   ]
  },
  {
   "cell_type": "markdown",
   "metadata": {},
   "source": [
    "## Run"
   ]
  },
  {
   "cell_type": "code",
   "execution_count": 10,
   "metadata": {},
   "outputs": [
    {
     "data": {
      "text/plain": [
       "0.156784"
      ]
     },
     "execution_count": 10,
     "metadata": {},
     "output_type": "execute_result"
    }
   ],
   "source": [
    "a, b = correr_experimento(\"1\", \"6\", [TEST_FILE])\n",
    "b"
   ]
  },
  {
   "cell_type": "markdown",
   "metadata": {},
   "source": [
    "## Todos los tipos"
   ]
  },
  {
   "cell_type": "code",
   "execution_count": 11,
   "metadata": {},
   "outputs": [],
   "source": [
    "\n",
    "for threadsLectura in range(1, 50):\n",
    "    for threadsEscritura in range(1, 50):\n",
    "        archivos = []\n",
    "        for cantArchivos in range(1, 50):\n",
    "            archivos = archivos + [TEST_FILE] \n",
    "            runs.append([str(threadsLectura), str(threadsEscritura), archivos])\n",
    "\n",
    "#     fila_n = df_dinamica.iloc[n];\n",
    "#     experimentos.append([fila_n[\"dataset\"], n, fila_n[\"n\"], fila_n[\"M\"], \"DP\", fila_n[\"archivo\"]]);"
   ]
  },
  {
   "cell_type": "markdown",
   "metadata": {},
   "source": [
    "### Ejectuar los experimentos:"
   ]
  },
  {
   "cell_type": "markdown",
   "metadata": {},
   "source": [
    "columnas = [\"dataset\", \"n\", \"#locales\",\"M\", \"metodo\", \"tiempo\"];\n",
    "filas = [];\n",
    "numero = 1\n",
    "T = 5 #Numero de veces que se ejecuta cada experimento (para mayor fidelidad del tiempo).\n",
    "for experimento in experimentos:\n",
    "    # Voy mostrando que experimento se esta ejecutando.\n",
    "    clear_output(wait=True)\n",
    "    display('Experimento: ' + str(numero) + \"/\" + str(len(experimentos)))\n",
    "    numero += 1\n",
    "    \n",
    "    # Ejecutamos el experimento T veces y obtenemos la mediana.\n",
    "    tiempos = []\n",
    "    print(experimento[4], experimento[5])\n",
    "    for i in range(0, T):\n",
    "        tiempos.append(correr_experimento(experimento[4], experimento[5]));\n",
    "    tiempo = np.median(tiempos);\n",
    "    filas.append([experimento[0], experimento[1], experimento[2], experimento[3], experimento[4],tiempo]);\n",
    "df_resultado = pd.DataFrame(filas, columns=columnas);\n",
    "df_resultado.to_csv(\"resultados/resultado.csv\", index=False, header=True);"
   ]
  },
  {
   "cell_type": "code",
   "execution_count": 12,
   "metadata": {},
   "outputs": [
    {
     "data": {
      "text/plain": [
       "'Experimento: 117649/117649'"
      ]
     },
     "metadata": {},
     "output_type": "display_data"
    }
   ],
   "source": [
    "# [cantThreads][cantFiles][cantThreadsMax][TIEMPO_MAX][TIEMPO_LEER]\n",
    "columnas = [\"threadsLectura\", \"threadsMaximo\", \"cantArchivos\", \"TIEMPO_MAX\", \"TIEMPO_CARGAR\"];\n",
    "filas = [];\n",
    "numero = 1\n",
    "T = 5 #Numero de veces que se ejecuta cada experimento (para mayor fidelidad del tiempo).\n",
    "for run in runs:\n",
    "    # Voy mostrando que experimento se esta ejecutando.\n",
    "    clear_output(wait=True)\n",
    "    display('Experimento: ' + str(numero) + \"/\" + str(len(runs)))\n",
    "    numero += 1\n",
    "    # Ejecutamos el experimento T veces y obtenemos la mediana.\n",
    "    tiemposMax = []\n",
    "    tiemposCargar = []\n",
    "    tiempo = []\n",
    "    #print(experimento[4], experimento[5])\n",
    "    for i in range(0, T):\n",
    "        tiempo = correr_experimento(run[0], run[1], run[2])\n",
    "        tiemposCargar.append(tiempo[0])\n",
    "        tiemposMax.append(tiempo[1])\n",
    "    tiempoCargar = np.median(tiemposCargar);\n",
    "    tiempoMax = np.median(tiemposMax);\n",
    "    filas.append([run[0], run[1], len(run[2]), tiempoMax, tiempoCargar]);\n",
    "df_resultado = pd.DataFrame(filas, columns=columnas);\n",
    "df_resultado.to_csv(\"resultados/resultado.csv\", index=False, header=True);"
   ]
  },
  {
   "cell_type": "markdown",
   "metadata": {},
   "source": [
    "    "
   ]
  }
 ],
 "metadata": {
  "kernelspec": {
   "display_name": "Python 3",
   "language": "python",
   "name": "python3"
  },
  "language_info": {
   "codemirror_mode": {
    "name": "ipython",
    "version": 3
   },
   "file_extension": ".py",
   "mimetype": "text/x-python",
   "name": "python",
   "nbconvert_exporter": "python",
   "pygments_lexer": "ipython3",
   "version": "3.8.3"
  }
 },
 "nbformat": 4,
 "nbformat_minor": 4
}
