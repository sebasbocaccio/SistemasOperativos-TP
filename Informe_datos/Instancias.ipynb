{
 "cells": [
  {
   "cell_type": "markdown",
   "metadata": {},
   "source": [
    "# Generador de instancias\n",
    "En este notebook está el código para generar los sets de instancias que se usan para experimentar.\n",
    "- Estas instancias van a ser guardadas en la carpeta __instancias__.\n",
    "- Cada set estará en su propia carpeta y tendrá un archivo _indice.csv_ que contendrá información sobre las instancias."
   ]
  },
  {
   "cell_type": "code",
   "execution_count": 1,
   "metadata": {},
   "outputs": [],
   "source": [
    "import random, math\n",
    "import pandas as pd\n",
    "import numpy as np"
   ]
  },
  {
   "cell_type": "code",
   "execution_count": 2,
   "metadata": {},
   "outputs": [],
   "source": [
    "def save_instance(dataset, instance_name, S, W, C):\n",
    "    with open(F\"instancias/{dataset}/{instance_name}.txt\", \"w\") as f:\n",
    "        print(len(S), W, file=f)\n",
    "        for i in range(len(S)): \n",
    "            print(S[i], C[i], file=f, sep=' ', end ='\\n')\n",
    "\n",
    "def save_index(dataset, instances):\n",
    "    with open(F\"instancias/{dataset}/instances.txt\", \"w\") as f:\n",
    "        for instance in instances: \n",
    "            print(instance, file=f)"
   ]
  },
  {
   "cell_type": "markdown",
   "metadata": {},
   "source": [
    "INSTANCIA TEST SIMPLE:"
   ]
  },
  {
   "cell_type": "code",
   "execution_count": 3,
   "metadata": {},
   "outputs": [],
   "source": [
    "filas_indice = []\n",
    "for i in range(1, 2):\n",
    "    n = i * 10 #Cantidad de locales\n",
    "    W = 100    #Maxima contaminacion\n",
    "    S = [i for i in range(0, n)] #Beneficio\n",
    "    C = [i*2 for i in range(0, n)] #contagio\n",
    "    save_instance(\"mejor-caso-bt\", F\"BT-MC-{n}\", S, W, C)\n",
    "    filas_indice.append([\"mejor-caso-bt\", F\"BT-MC-{n}\", n, W, F\"instancias/mejor-caso-bt/BT-MC-{n}.txt\"])\n",
    "pd.DataFrame(filas_indice, columns=[\"dataset\", \"instancia\", \"n\", \"W\", \"archivo\"]).to_csv(\"instancias/mejor-caso-bt/indice.csv\", index=False, header=True)"
   ]
  },
  {
   "cell_type": "markdown",
   "metadata": {},
   "source": [
    "### INSTANCIA BT-F Promedio\n",
    "\n",
    "Experimento Factibilidad:\n",
    "para los experimentos de back tracking de factibilidad pensamos fijar un N y definir el M entorno al N. Vamos crear locales suponiendo que tienen una distribucion normal de la MEDIA = X y la VARIANZA = y\n",
    "\n",
    "la instancia de los experimentos tendria la siguiente pinta:\n",
    "Dado un N fijo. Siendo M la maxima cantidad cantidad de contagios.\n",
    "M = N * 3\n",
    "\n",
    "conjunto de comercios = {comercio0, comercio1,. . . . . . , comercioN} / comercioJ.contagio = normal(N, 1) para todo J entre 0 y N"
   ]
  },
  {
   "cell_type": "markdown",
   "metadata": {},
   "source": [
    "### INSTANCIA BT-F DENSIDAD MEDIA "
   ]
  },
  {
   "cell_type": "code",
   "execution_count": 4,
   "metadata": {},
   "outputs": [],
   "source": [
    "filas_indice = []\n",
    "CASOS = 45\n",
    "for i in range(0, CASOS):\n",
    "    N = i\n",
    "    M = int((N * 20 * 1/4))\n",
    "    S = [i for i in range(0, N)] #Beneficio\n",
    "    Co = np.rint(np.random.normal(20, 5, N))\n",
    "    C = []\n",
    "    for j in range(0, N):\n",
    "        if(Co[j] <= 0):\n",
    "            Co[j] = 1\n",
    "        C.append(int(Co[j]))\n",
    "    \n",
    "    save_instance(\"densidad-media-factibilidad\", F\"BT-F-DA-{N}\", S, M, C)\n",
    "    filas_indice.append([\"densidad-media-factibilidad\", F\"BT-F-DM-{N}\", N, M, F\"instancias/densidad-media-factibilidad/BT-F-DA-{N}.txt\"])\n",
    "pd.DataFrame(filas_indice, columns=[\"dataset\", \"instancia\", \"n\", \"M\", \"archivo\"]).to_csv(\"instancias/densidad-media-factibilidad/indice.csv\", index=False, header=True)\n",
    "    \n"
   ]
  },
  {
   "cell_type": "markdown",
   "metadata": {},
   "source": [
    "### INSTANCIA BT-F DENSIDAD BAJA "
   ]
  },
  {
   "cell_type": "code",
   "execution_count": 5,
   "metadata": {},
   "outputs": [],
   "source": [
    "filas_indice = []\n",
    "\n",
    "for i in range(0, CASOS):\n",
    "    N = i\n",
    "    M = int((N * 20 * 1/8))\n",
    "    S = [i for i in range(0, N)] #Beneficio\n",
    "    Co = np.rint(np.random.normal(20, 5, N))\n",
    "    C = []\n",
    "    for j in range(0, N):\n",
    "        if(Co[j] <= 0):\n",
    "            Co[j] = 1\n",
    "        C.append(int(Co[j]))\n",
    "    \n",
    "    save_instance(\"densidad-baja-factibilidad\", F\"BT-F-DA-{N}\", S, M, C)\n",
    "    filas_indice.append([\"densidad-baja-factibilidad\", F\"BT-F-DB-{N}\", N, M, F\"instancias/densidad-baja-factibilidad/BT-F-DA-{N}.txt\"])\n",
    "pd.DataFrame(filas_indice, columns=[\"dataset\", \"instancia\", \"n\", \"M\", \"archivo\"]).to_csv(\"instancias/densidad-baja-factibilidad/indice.csv\", index=False, header=True)\n",
    "    \n"
   ]
  },
  {
   "cell_type": "markdown",
   "metadata": {},
   "source": [
    "### INSTANCIA BT-F DENSIDAD ALTA"
   ]
  },
  {
   "cell_type": "code",
   "execution_count": 6,
   "metadata": {},
   "outputs": [],
   "source": [
    "filas_indice = []\n",
    "\n",
    "for i in range(0, CASOS):\n",
    "    N = i\n",
    "    M = int((20* N * 3/8)) \n",
    "    S = [i for i in range(0, N)] #Beneficio\n",
    "    Co = np.rint(np.random.normal(20,5, N))\n",
    "    C = []\n",
    "    for j in range(0, N):\n",
    "        if(Co[j] <= 0):\n",
    "            Co[j] = 1\n",
    "        C.append(int(Co[j]))\n",
    "    \n",
    "    save_instance(\"densidad-alta-factibilidad\", F\"BT-F-DA-{N}\", S, M, C)\n",
    "    filas_indice.append([\"densidad-alta-factibilidad\", F\"BT-F-DA-{N}\", N, M, F\"instancias/densidad-alta-factibilidad/BT-F-DA-{N}.txt\"])\n",
    "pd.DataFrame(filas_indice, columns=[\"dataset\", \"instancia\", \"n\", \"M\", \"archivo\"]).to_csv(\"instancias/densidad-alta-factibilidad/indice.csv\", index=False, header=True)\n",
    "    "
   ]
  },
  {
   "cell_type": "markdown",
   "metadata": {},
   "source": [
    "### OPTIMALIDAD\n",
    "\n",
    "vamos a utilizar la relacion beneficio/contagio. la idea seria que los comercios esten ordenados de forme decreciente en torno a la relacion beneficio contagio.\n",
    "\n",
    "aglomerado = {comercio0, comercio1,. . . . . . , comercioN} con \n",
    "comercioJ.beneficio = N - J\n",
    "comercioJ.contagio  = J\n",
    "\n",
    "### Densidad alta optimalidad"
   ]
  },
  {
   "cell_type": "code",
   "execution_count": 7,
   "metadata": {},
   "outputs": [],
   "source": [
    "filas_indice = []\n",
    "\n",
    "for i in range(0, CASOS):\n",
    "    N = i\n",
    "    M = int((20* N * 2/8))\n",
    "    S = [i for i in range(0, N)] \n",
    "    C = random.sample(range(1, 50), N) #Beneficio\n",
    "    C.sort(reverse=True)\n",
    "    clase_alta = []\n",
    "    for j  in range(0, int(N * 1/4)):\n",
    "        clase_alta.append(C[j])\n",
    "    clase_media = []\n",
    "    for j  in range(int(N * 1/4), int(N * 3/4)):\n",
    "        clase_media.append(C[j])\n",
    "    clase_baja = []\n",
    "    for j  in range(int(N * 3/4), N):\n",
    "        clase_baja.append(C[j])\n",
    "    random.shuffle(clase_baja)\n",
    "    random.shuffle(clase_media)\n",
    "    random.shuffle(clase_alta)\n",
    "    \n",
    "    C = clase_baja+clase_media+clase_alta\n",
    "    save_instance(\"densidad-alta-optimalidad\", F\"BT-O-DA-{N}\", C, M, S)\n",
    "    filas_indice.append([\"densidad-alta-optimalidad\", F\"BT-O-DA-{N}\", N, M, F\"instancias/densidad-alta-optimalidad/BT-O-DA-{N}.txt\"])\n",
    "pd.DataFrame(filas_indice, columns=[\"dataset\", \"instancia\", \"n\", \"M\", \"archivo\"]).to_csv(\"instancias/densidad-alta-optimalidad/indice.csv\", index=False, header=True)\n",
    "    \n",
    " "
   ]
  },
  {
   "cell_type": "markdown",
   "metadata": {},
   "source": [
    "### Densidad baja optimalidad:"
   ]
  },
  {
   "cell_type": "code",
   "execution_count": 8,
   "metadata": {},
   "outputs": [],
   "source": [
    "filas_indice = []\n",
    "\n",
    "for i in range(0, CASOS):\n",
    "    N = i\n",
    "    M = int((20* N * 2/8))\n",
    "    S = [i for i in range(0, N)] #Beneficio\n",
    "    C = random.sample(range(1, 50), N)\n",
    "    C.sort(reverse=True)\n",
    "    clase_alta = []\n",
    "    for j  in range(0, int(N * 1/4)):\n",
    "        clase_alta.append(C[j])\n",
    "    clase_media = []\n",
    "    for j  in range(int(N * 1/4), int(N * 3/4)):\n",
    "        clase_media.append(C[j])\n",
    "    clase_baja = []\n",
    "    for j  in range(int(N * 3/4), N):\n",
    "        clase_baja.append(C[j])\n",
    "    random.shuffle(clase_baja)\n",
    "    random.shuffle(clase_media)\n",
    "    random.shuffle(clase_alta)\n",
    "    \n",
    "    C = clase_alta+clase_media+clase_baja\n",
    "    save_instance(\"densidad-baja-optimalidad\", F\"BT-O-DB-{N}\", C, M, S)\n",
    "    filas_indice.append([\"densidad-baja-optimalidad\", F\"BT-O-DB-{N}\", N, M, F\"instancias/densidad-baja-optimalidad/BT-O-DB-{N}.txt\"])\n",
    "pd.DataFrame(filas_indice, columns=[\"dataset\", \"instancia\", \"n\", \"M\", \"archivo\"]).to_csv(\"instancias/densidad-baja-optimalidad/indice.csv\", index=False, header=True)\n",
    "    \n",
    " "
   ]
  },
  {
   "cell_type": "markdown",
   "metadata": {},
   "source": [
    "### Densidad Media optimalidad:"
   ]
  },
  {
   "cell_type": "code",
   "execution_count": 9,
   "metadata": {},
   "outputs": [],
   "source": [
    "filas_indice = []\n",
    "\n",
    "for i in range(0, CASOS):\n",
    "    N = i\n",
    "    M = int((20* N * 2/8))\n",
    "    S = [i for i in range(0, N)] #Beneficio\n",
    "    C = random.sample(range(1, 50), N)\n",
    "    random.shuffle(C)\n",
    "    \n",
    "    save_instance(\"densidad-media-optimalidad\", F\"BT-O-DM-{N}\", C, M, S)\n",
    "    filas_indice.append([\"densidad-media-optimalidad\", F\"BT-O-DM-{N}\", N, M, F\"instancias/densidad-media-optimalidad/BT-O-DM-{N}.txt\"])\n",
    "pd.DataFrame(filas_indice, columns=[\"dataset\", \"instancia\", \"n\", \"M\", \"archivo\"]).to_csv(\"instancias/densidad-media-optimalidad/indice.csv\", index=False, header=True)\n",
    "    \n",
    " "
   ]
  },
  {
   "cell_type": "markdown",
   "metadata": {},
   "source": [
    "## mejores y peores casos:"
   ]
  },
  {
   "cell_type": "markdown",
   "metadata": {},
   "source": [
    "### mejor caso factibilidad:"
   ]
  },
  {
   "cell_type": "code",
   "execution_count": 10,
   "metadata": {},
   "outputs": [],
   "source": [
    "filas_indice = []\n",
    "\n",
    "for i in range(0, CASOS):\n",
    "    N = i\n",
    "    M = N+1\n",
    "    S = [i for i in range(0, N)] #Beneficio\n",
    "    C = [N+2 for i in range(0, N)]\n",
    "    save_instance(\"mejor-caso-bt-f\", F\"BT-F-MC-{N}\", S, M, C)\n",
    "    filas_indice.append([\"mejor-caso-bt-f\", F\"BT-F-MC-{N}\", N, M, F\"instancias/mejor-caso-bt-f/BT-F-MC-{N}.txt\"])\n",
    "pd.DataFrame(filas_indice, columns=[\"dataset\", \"instancia\", \"n\", \"M\", \"archivo\"]).to_csv(\"instancias/mejor-caso-bt-f/indice.csv\", index=False, header=True)\n",
    "   \n",
    " "
   ]
  },
  {
   "cell_type": "markdown",
   "metadata": {},
   "source": [
    "### peor caso factibilidad:"
   ]
  },
  {
   "cell_type": "code",
   "execution_count": 11,
   "metadata": {},
   "outputs": [],
   "source": [
    "filas_indice = []\n",
    "\n",
    "for i in range(0, CASOS):\n",
    "    N = i\n",
    "    M = N+1\n",
    "    S = [i for i in range(0, N)] #Beneficio\n",
    "    C = [1 for i in range(0, N)]\n",
    "    save_instance(\"peor-caso-bt-f\", F\"BT-F-PC-{N}\", S, M, C)\n",
    "    filas_indice.append([\"peor-caso-bt-f\", F\"BT-F-PC-{N}\", N, M, F\"instancias/peor-caso-bt-f/BT-F-PC-{N}.txt\"])\n",
    "pd.DataFrame(filas_indice, columns=[\"dataset\", \"instancia\", \"n\", \"M\", \"archivo\"]).to_csv(\"instancias/peor-caso-bt-f/indice.csv\", index=False, header=True)\n",
    "  \n",
    " "
   ]
  },
  {
   "cell_type": "markdown",
   "metadata": {},
   "source": [
    "### mejor caso optimalidad"
   ]
  },
  {
   "cell_type": "code",
   "execution_count": 12,
   "metadata": {},
   "outputs": [],
   "source": [
    "filas_indice = []\n",
    "\n",
    "casos_mejor_caso = 45\n",
    "for i in range(0, casos_mejor_caso):\n",
    "    N = i\n",
    "    M = N+1\n",
    "    S = [int(pow(2, i)) for i in range(0, N)]\n",
    "    C = [1 for i in range(0, N)]\n",
    "    S.sort(reverse=True)\n",
    "    save_instance(\"mejor-caso-bt-o\", F\"BT-O-MC-{N}\", S, M, C)\n",
    "    filas_indice.append([\"mejor-caso-bt-o\", F\"BT-O-MC-{N}\", N, M, F\"instancias/mejor-caso-bt-o/BT-O-MC-{N}.txt\"])\n",
    "pd.DataFrame(filas_indice, columns=[\"dataset\", \"instancia\", \"n\", \"M\", \"archivo\"]).to_csv(\"instancias/mejor-caso-bt-o/indice.csv\", index=False, header=True)\n"
   ]
  },
  {
   "cell_type": "markdown",
   "metadata": {},
   "source": [
    "### peor caso optimalidad"
   ]
  },
  {
   "cell_type": "code",
   "execution_count": 13,
   "metadata": {},
   "outputs": [],
   "source": [
    "filas_indice = []\n",
    "\n",
    "casos_mejor_caso = 45\n",
    "S = 0\n",
    "for i in range(0, casos_mejor_caso):\n",
    "    N = i\n",
    "    M = N+1\n",
    "    S = [int(pow(2, i)) for i in range(0, N)]\n",
    "    C = [1 for i in range(0, N)]\n",
    "    save_instance(\"peor-caso-bt-o\", F\"BT-O-PC-{N}\", S, M, C)\n",
    "    filas_indice.append([\"peor-caso-bt-o\", F\"BT-O-PC-{N}\", N, M, F\"instancias/peor-caso-bt-o/BT-O-PC-{N}.txt\"])\n",
    "pd.DataFrame(filas_indice, columns=[\"dataset\", \"instancia\", \"n\", \"M\", \"archivo\"]).to_csv(\"instancias/peor-caso-bt-o/indice.csv\", index=False, header=True)\n",
    "\n"
   ]
  },
  {
   "cell_type": "markdown",
   "metadata": {},
   "source": [
    "### Programacion dinamica vs BT-A"
   ]
  },
  {
   "cell_type": "code",
   "execution_count": 14,
   "metadata": {},
   "outputs": [],
   "source": [
    "filas_indice = []\n",
    "\n",
    "nums = [i*250 for i in range(1, 500)] \n",
    "for M in nums:\n",
    "    #print(M)\n",
    "    N = CASOS\n",
    "    top = max(int(4*M/N), N + 1)\n",
    "    C = random.sample(range(1, top), N)\n",
    "    S = random.sample(range(1, top), N)\n",
    "    random.shuffle(S)\n",
    "    random.shuffle(C)\n",
    "    save_instance(\"programacion-dinamica-contra-backtracking\", F\"DP-VS-BT-{M}\", S, M, C)\n",
    "    filas_indice.append([\"programacion-dinamica-contra-backtracking\", F\"DP-VS-BT-{M}\", N, M, F\"instancias/programacion-dinamica-contra-backtracking/DP-VS-BT-{M}.txt\"])\n",
    "pd.DataFrame(filas_indice, columns=[\"dataset\", \"instancia\", \"n\", \"M\", \"archivo\"]).to_csv(\"instancias/programacion-dinamica-contra-backtracking/indice.csv\", index=False, header=True)\n",
    "    "
   ]
  },
  {
   "cell_type": "markdown",
   "metadata": {},
   "source": [
    "### Programacion dinamica heatmap"
   ]
  },
  {
   "cell_type": "code",
   "execution_count": 15,
   "metadata": {},
   "outputs": [],
   "source": [
    "filas_indice = []\n",
    "\n",
    "for i in range(1, 20):\n",
    "    N = i*500\n",
    "    nums = [i*500 for i in range(1, 20)]\n",
    "    for M in nums:\n",
    "        #top = max(int(4*M/N), N + 1)\n",
    "        C = [i for i in range(0, N)]\n",
    "        S = [i for i in range(0, N)]\n",
    "        random.shuffle(S)\n",
    "        random.shuffle(C)\n",
    "        save_instance(\"programacion-dinamica\", F\"DP-{N}-{M}\", S, M, C)\n",
    "        filas_indice.append([\"programacion-dinamica\", F\"DP-{N}-{M}\", N, M, F\"instancias/programacion-dinamica/DP-{N}-{M}.txt\"])\n",
    "pd.DataFrame(filas_indice, columns=[\"dataset\", \"instancia\", \"n\", \"M\", \"archivo\"]).to_csv(\"instancias/programacion-dinamica/indice.csv\", index=False, header=True)\n",
    "      "
   ]
  },
  {
   "cell_type": "code",
   "execution_count": null,
   "metadata": {},
   "outputs": [],
   "source": []
  },
  {
   "cell_type": "code",
   "execution_count": null,
   "metadata": {},
   "outputs": [],
   "source": []
  }
 ],
 "metadata": {
  "kernelspec": {
   "display_name": "Python 3",
   "language": "python",
   "name": "python3"
  },
  "language_info": {
   "codemirror_mode": {
    "name": "ipython",
    "version": 3
   },
   "file_extension": ".py",
   "mimetype": "text/x-python",
   "name": "python",
   "nbconvert_exporter": "python",
   "pygments_lexer": "ipython3",
   "version": "3.6.9"
  }
 },
 "nbformat": 4,
 "nbformat_minor": 4
}
